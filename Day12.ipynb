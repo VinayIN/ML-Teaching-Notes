{
 "cells": [
  {
   "cell_type": "markdown",
   "id": "ef0fde34-9bef-4647-b040-417f5ce15404",
   "metadata": {},
   "source": [
    "## Introduction to Machine Learning\n",
    "Machine learning (ML) is the `study of computer algorithms` that can improve automatically through experience and by the `use of data`. It is seen as a part of artificial intelligence. Machine learning algorithms build a model based on sample data, known as `training data`, in order to make predictions or decisions `without being explicitly programmed` to do so."
   ]
  },
  {
   "cell_type": "code",
   "execution_count": 1,
   "id": "d0954d39-999c-4697-bffc-461d02f209db",
   "metadata": {},
   "outputs": [
    {
     "data": {
      "text/html": [
       "\n",
       "        <iframe\n",
       "            width=\"720\"\n",
       "            height=\"420\"\n",
       "            src=\"https://www.youtube.com/embed/5q87K1WaoFI\"\n",
       "            frameborder=\"0\"\n",
       "            allowfullscreen\n",
       "        ></iframe>\n",
       "        "
      ],
      "text/plain": [
       "<IPython.lib.display.IFrame at 0x240331ce880>"
      ]
     },
     "execution_count": 1,
     "metadata": {},
     "output_type": "execute_result"
    }
   ],
   "source": [
    "from IPython.display import IFrame\n",
    "IFrame('https://www.youtube.com/embed/5q87K1WaoFI', height=420, width=720)"
   ]
  },
  {
   "cell_type": "markdown",
   "id": "7cabb69e-8d96-48af-b255-7583e7268a54",
   "metadata": {},
   "source": [
    "## Mathematics for ML\n",
    "\n",
    "**(Input data)** $ X $ -> f(x) -> $ Y $ **(Output data)**\n",
    "\n",
    "**[ML mathematics PDF](https://mml-book.github.io/book/mml-book.pdf)**\n",
    "- Vectors\n",
    "- Matrix Algebra\n",
    "- Eigenvalues and Eigenvectors\n",
    "- mean, median, standard deviation, correlation, variance\n",
    "- Probability basics\n",
    "- Probability distribution curves\n",
    "\n",
    "**[Short introduction to mathematics](https://www.igdtuw.ac.in/uploads/02_math_essentials.pdf)**"
   ]
  },
  {
   "cell_type": "markdown",
   "id": "df429fad-1e27-4d2e-9f91-32478f4dd388",
   "metadata": {},
   "source": [
    "## Types of Learning\n",
    "\n",
    "ML is all about learning from data, They can be broadly classified into these section:\n",
    "\n",
    "### Learning Problems\n",
    "1. Supervised Learning\n",
    "\n",
    "    `Supervised learning` describes a class of problem that involves using a model to learn a mapping between input examples and the target variable. There are mainly 2 types of ML algorithm in Supervised learning,\n",
    "    * Regression\n",
    "    * Classification\n",
    "\n",
    "2. Unsupervised Learning\n",
    "    \n",
    "    `Unsupervised learning` describes a class of problems that involves using a model to describe or extract relationships in data. Categories of ML algorithm in this type of learning are:\n",
    "    * Clustering\n",
    "    * Density Estimation\n",
    "    * Projection of higher-dimensional data to lower-dimensional\n",
    "    \n",
    "3. Reinforcement Learning\n",
    "\n",
    "    `Reinforcement learning` describes a class of problems where an agent operates in an environment and must learn to operate using feedback.\n",
    "\n",
    "### Hybrid Learning Problems\n",
    "4. Semi-Supervised Learning\n",
    "\n",
    "    `Semi-supervised learning` is supervised learning where the training data contains very few labeled examples and a large number of unlabeled examples. The goal of a semi-supervised learning model is to make effective use of all of the available data, not just the labelled data like in supervised learning.\n",
    "    \n",
    "5. Self-Supervised Learning\n",
    "\n",
    "    `Self-supervised learning` refers to an unsupervised learning problem that is framed as a supervised learning problem in order to apply supervised learning algorithms to solve it. Supervised learning algorithms are used to solve an alternate or pretext task, the result of which is a model or representation that can be used in the solution of the original (actual) modeling problem.\n",
    "        \n",
    "6. Multi-Instance Learning\n",
    "\n",
    "### Statistical Inference\n",
    "7. Inductive Learning\n",
    "8. Deductive Inference\n",
    "9. Transductive Learning\n",
    "\n",
    "### Learning Techniques\n",
    "10. Multi-Task Learning\n",
    "11. Active Learning\n",
    "\n",
    "    `Active learning` is a technique where the model is able to query a human user operator during the learning process in order to resolve ambiguity during the learning process. The key idea behind active learning is that a machine learning algorithm can achieve greater accuracy with fewer training labels if it is allowed to choose the data from which it learns.\n",
    "    \n",
    "12. Online Learning\n",
    "\n",
    "    `Online learning` involves using the data available and updating the model directly before a prediction is required or after the last observation was made. Online learning is appropriate for those problems where observations are provided over time and where the probability distribution of observations is expected to also change over time. Therefore, the model is expected to change just as frequently in order to capture and harness those changes.\n",
    "    \n",
    "13. Transfer Learning\n",
    "\n",
    "    `Transfer learning` is a type of learning where a model is first trained on one task, then some or all of the model is used as the starting point for a related task. It is a useful approach on problems where there is a task related to the main task of interest and the related task has a large amount of data.\n",
    "    \n",
    "14. Ensemble Learning\n",
    "\n",
    "    `Ensemble learning` is an approach where two or more modes are fit on the same data and the predictions from each model are combined."
   ]
  },
  {
   "cell_type": "markdown",
   "id": "7cb36860-54f3-4919-aea8-06de3492bd23",
   "metadata": {},
   "source": [
    "## Training set and testing set\n",
    "\n",
    "Machine learning is about learning some properties of a data set and then testing those properties against another data set. A common practice in machine learning is to evaluate an algorithm by splitting a data set into two. We call one of those sets the `training set`, on which we learn some properties; we call the other set the `testing set`, on which we test the learned properties.\n",
    "\n",
    "\n",
    "[Read this](https://machinelearningmastery.com/a-gentle-introduction-to-scikit-learn-a-python-machine-learning-library/)"
   ]
  }
 ],
 "metadata": {
  "kernelspec": {
   "display_name": "Python 3",
   "language": "python",
   "name": "python3"
  },
  "language_info": {
   "codemirror_mode": {
    "name": "ipython",
    "version": 3
   },
   "file_extension": ".py",
   "mimetype": "text/x-python",
   "name": "python",
   "nbconvert_exporter": "python",
   "pygments_lexer": "ipython3",
   "version": "3.8.11"
  }
 },
 "nbformat": 4,
 "nbformat_minor": 5
}
