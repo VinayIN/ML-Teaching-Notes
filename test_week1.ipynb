{
 "cells": [
  {
   "cell_type": "markdown",
   "id": "120468a0-e012-499a-af8d-5ed04bb07b69",
   "metadata": {},
   "source": [
    "# Week 1 test\n",
    "---\n",
    "## Instruction\n",
    "1. Write the required programming codes on next cell after the question.\n",
    "2. Execute the cell and keep the output\n",
    "3. rename the notebook with your name at the suffix (ex: test_week1_binay.ipynb)\n",
    "4. The whole test will be an unscored challenge, so attempt all.\n",
    "5. Time limit is **1.5 hrs**\n",
    "---"
   ]
  },
  {
   "cell_type": "markdown",
   "id": "e4c266d4-17bf-4d6f-b27b-7b8617bf88e6",
   "metadata": {},
   "source": [
    "**1. Find the missing number in a given range of 1 to 10?**"
   ]
  },
  {
   "cell_type": "code",
   "execution_count": 1,
   "id": "de2bf5b2-d12f-4e0b-87c8-6f54be60c5c4",
   "metadata": {},
   "outputs": [
    {
     "name": "stdout",
     "output_type": "stream",
     "text": [
      "Provide a number 10 times. If you want't to skip a number then provide 0\n"
     ]
    },
    {
     "name": "stdin",
     "output_type": "stream",
     "text": [
      " 1\n",
      " 2\n",
      " 3\n",
      " 4\n",
      " 0\n",
      " 6\n",
      " 7\n",
      " 8\n",
      " 9\n",
      " 10\n"
     ]
    },
    {
     "name": "stdout",
     "output_type": "stream",
     "text": [
      "missing:  5\n"
     ]
    }
   ],
   "source": [
    "## approach 1\n",
    "num = []\n",
    "print(\"Provide a number 10 times. If you want't to skip a number then provide 0\")\n",
    "for i in range(10):\n",
    "    num.append(int(input().strip()))\n",
    "actual = sum(range(11))\n",
    "print(\"missing: \", actual - sum(num))"
   ]
  },
  {
   "cell_type": "code",
   "execution_count": 4,
   "id": "0d2b9409-9456-454a-b078-cf255ee121b1",
   "metadata": {},
   "outputs": [
    {
     "name": "stdout",
     "output_type": "stream",
     "text": [
      "Provide a number 10 times. If you want't to skip a number then provide 0\n"
     ]
    },
    {
     "name": "stdin",
     "output_type": "stream",
     "text": [
      " 1\n",
      " 2\n",
      " 3\n",
      " 4\n",
      " 0\n",
      " 6\n",
      " 7\n",
      " 8\n",
      " 9\n",
      " 10\n"
     ]
    },
    {
     "name": "stdout",
     "output_type": "stream",
     "text": [
      "missing:  5\n"
     ]
    }
   ],
   "source": [
    "## approach 2\n",
    "num = []\n",
    "print(\"Provide a number 10 times. If you want't to skip a number then provide 0\")\n",
    "for i in range(10):\n",
    "    num.append(int(input().strip()))\n",
    "num = sorted(num)\n",
    "for i in num:\n",
    "    if num[i+1] - num[i] != 1:\n",
    "        print(\"missing: \", i+1)\n",
    "        break"
   ]
  },
  {
   "cell_type": "markdown",
   "id": "1efa51f4-137c-4803-9b01-2fe57e899632",
   "metadata": {},
   "source": [
    "**2. print non repeatable characters from the string `Machine learning (ML) is the study of computer algorithms that can improve automatically through experience and by the use of data.`?**"
   ]
  },
  {
   "cell_type": "code",
   "execution_count": 5,
   "id": "1c4d0ac6-1b41-42cf-be0e-bfe7c59db8d8",
   "metadata": {},
   "outputs": [
    {
     "name": "stdout",
     "output_type": "stream",
     "text": [
      "Non repeatable characters are:  ( ) . v L x b\n"
     ]
    }
   ],
   "source": [
    "s = 'Machine learning (ML) is the study of computer algorithms that can improve automatically through experience and by the use of data.'\n",
    "set_s = set(s)\n",
    "out = []\n",
    "for i in set_s:\n",
    "    if s.count(i) > 1:\n",
    "        continue\n",
    "    out.append(i)\n",
    "print(\"Non repeatable characters are: \",\" \".join(out))"
   ]
  },
  {
   "cell_type": "markdown",
   "id": "792bb8e7-1613-44d5-a773-d6b30180ccb1",
   "metadata": {},
   "source": [
    "**3. How do you find the largest and smallest number in array [12, 11, 10, 1, 55]?**"
   ]
  },
  {
   "cell_type": "code",
   "execution_count": 6,
   "id": "c0177cb1-0cdd-4e5f-b2e1-7a95b634439d",
   "metadata": {},
   "outputs": [
    {
     "name": "stdout",
     "output_type": "stream",
     "text": [
      "max:  55\n",
      "min:  1\n"
     ]
    }
   ],
   "source": [
    "array = [12, 11, 10, 1, 55]\n",
    "print(\"max: \", max(array))\n",
    "print(\"min: \", min(array))"
   ]
  },
  {
   "cell_type": "markdown",
   "id": "d7f4dc3c-ff2c-4518-be08-30e3018b8b4e",
   "metadata": {},
   "source": [
    "**4. A set `A` contains cities `mumbai, chennai, delhi, bangalore, hyderabad, kolkata` and another set `B` contains `bangalore, delhi, kolkata, madras`.**\n",
    "Do the following operations:\n",
    "1. Find the common cities in both set\n",
    "2. combine both set `A` and `B`\n",
    "3. provide cities of set `B` not present in `A`"
   ]
  },
  {
   "cell_type": "code",
   "execution_count": 7,
   "id": "c960d1de-861e-4b72-ae1b-0d75766cd916",
   "metadata": {},
   "outputs": [
    {
     "name": "stdout",
     "output_type": "stream",
     "text": [
      "Common cities:  {'delhi', 'kolkata', 'bangalore'}\n",
      "Combination of both set:  {'mumbai', 'hyderabad', 'chennai', 'delhi', 'kolkata', 'madras', 'bangalore'}\n",
      "Cities of B not present in A {'madras'}\n"
     ]
    }
   ],
   "source": [
    "set_A = {'mumbai', 'chennai', 'delhi', 'bangalore', 'hyderabad', 'kolkata'}\n",
    "set_B = {'bangalore', 'delhi', 'kolkata', 'madras'}\n",
    "print(\"Common cities: \", set_A.intersection(set_B) )\n",
    "print(\"Combination of both set: \", set_A.union(set_B))\n",
    "print(\"Cities of B not present in A\", set_B.difference(set_A))"
   ]
  },
  {
   "cell_type": "markdown",
   "id": "a57066b9-c144-4d58-8721-0e4981f17c11",
   "metadata": {},
   "source": [
    "**5. print duplicate numbers in an list [1, 1, 1, 2, 5, 7, 7, 10, 0, 0]?**"
   ]
  },
  {
   "cell_type": "code",
   "execution_count": 9,
   "id": "1eb8b0a5-1474-45e5-a4fa-36152a1a8934",
   "metadata": {},
   "outputs": [
    {
     "name": "stdout",
     "output_type": "stream",
     "text": [
      "Duplicate numbers:  [0, 1, 7]\n"
     ]
    }
   ],
   "source": [
    "a = [1, 1, 1, 2, 5, 7, 7, 10, 0, 0]\n",
    "out = []\n",
    "for i in set(a):\n",
    "    if a.count(i) > 1:\n",
    "        out.append(i)\n",
    "print(\"Duplicate numbers: \", out)"
   ]
  },
  {
   "cell_type": "markdown",
   "id": "3cb2eed6-acbb-4017-9bc4-a14568fd045f",
   "metadata": {},
   "source": [
    "**6. print the reverse of your first name but keep the last name in the correct order?**"
   ]
  },
  {
   "cell_type": "code",
   "execution_count": 15,
   "id": "541cbd53-c656-4b1b-889d-982505eb1d3a",
   "metadata": {},
   "outputs": [
    {
     "name": "stdout",
     "output_type": "stream",
     "text": [
      "reversed name: yaniB Pradhan\n"
     ]
    }
   ],
   "source": [
    "name = \"Binay Pradhan\"\n",
    "part_name = name.partition(\" \")\n",
    "f_name = part_name[0]\n",
    "rev_name = []\n",
    "length = len(f_name) -1 \n",
    "while length >= 0:\n",
    "    rev_name.append(f_name[length])\n",
    "    length -= 1\n",
    "print(\"reversed name: {} {}\".format(\"\".join(rev_name), part_name[-1]))"
   ]
  },
  {
   "cell_type": "markdown",
   "id": "07c677e7-ac65-4d86-a630-dbbf0671e528",
   "metadata": {},
   "source": [
    "**7. Find the distance between 2 points (5,4) and (3,9). The formula of distance is given by:**\n",
    "     $ d_{\\left(x1,y1\\right), \\left(x2,y2\\right)}   = \\sqrt {\\left( x_{1}-x_{2}\\right)^2 + \\left(y_{1}-y_{2}\\right)^2} $"
   ]
  },
  {
   "cell_type": "code",
   "execution_count": 22,
   "id": "f5d4d62c-1438-400c-b880-3186cd5f639c",
   "metadata": {},
   "outputs": [
    {
     "name": "stdout",
     "output_type": "stream",
     "text": [
      "Distance:  5.385164807134504\n",
      "Distance:  5.385164807134504\n"
     ]
    }
   ],
   "source": [
    "import math\n",
    "p = (5,4)\n",
    "q = (3,9)\n",
    "# approach 1\n",
    "d1 = math.sqrt(pow((p[0] - q[0]), 2) + pow((p[1] - q[1]), 2))\n",
    "print(\"Distance: \", d1)\n",
    "\n",
    "# approach 2\n",
    "d2 = pow((pow((p[0] - q[0]), 2) + pow((p[1] - q[1]), 2)), 1/2)\n",
    "print(\"Distance: \", d2)"
   ]
  },
  {
   "cell_type": "markdown",
   "id": "a95923e2-8615-4da8-801b-8bfec54bb113",
   "metadata": {},
   "source": [
    "**8. You are given a string `s` that has lowercase English letters in its `even indices` and digits in its `odd indices`. replace the digit with xth character after the character x.**\n",
    "\n",
    "example: `a1c2d0` becomes a**b**c**e**d**d**\n",
    "* 1 becomes b, after a + 1th character is b\n",
    "* 2 becomes e, after c + 2th character is e\n",
    "* 0 becomes d, after d + 0th character is d\n",
    "\n",
    "tip: see this [link](https://docs.python.org/3/library/functions.html#ord)"
   ]
  },
  {
   "cell_type": "code",
   "execution_count": 26,
   "id": "32ba5e51-db05-417e-a9a3-39a16423e790",
   "metadata": {},
   "outputs": [
    {
     "name": "stdin",
     "output_type": "stream",
     "text": [
      "provide a string a1c2d0\n"
     ]
    },
    {
     "name": "stdout",
     "output_type": "stream",
     "text": [
      "Decoded value is:  abcedd\n"
     ]
    }
   ],
   "source": [
    "s = input(\"provide a string\").strip()\n",
    "out = []\n",
    "length = len(s)\n",
    "for i in range(0, length, 2):\n",
    "    ascii_val = ord(s[i]) + int(s[i+1])\n",
    "    char_val = chr(ascii_val)\n",
    "    out.append(s[i] + char_val)\n",
    "print(\"Decoded value is: \", \"\".join(out))"
   ]
  },
  {
   "cell_type": "code",
   "execution_count": null,
   "id": "81a927b6-5c00-4413-8c07-549156b9950f",
   "metadata": {},
   "outputs": [],
   "source": []
  }
 ],
 "metadata": {
  "kernelspec": {
   "display_name": "Python 3",
   "language": "python",
   "name": "python3"
  },
  "language_info": {
   "codemirror_mode": {
    "name": "ipython",
    "version": 3
   },
   "file_extension": ".py",
   "mimetype": "text/x-python",
   "name": "python",
   "nbconvert_exporter": "python",
   "pygments_lexer": "ipython3",
   "version": "3.8.11"
  }
 },
 "nbformat": 4,
 "nbformat_minor": 5
}
