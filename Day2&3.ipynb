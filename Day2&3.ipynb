{
 "cells": [
  {
   "cell_type": "markdown",
   "id": "f22c6a35-c6ab-44c9-99e7-77ba8a0f6de6",
   "metadata": {},
   "source": [
    "## After this, you will be able to:\n",
    "- Declare variables with different datatypes\n",
    "- Create expressions and do operations\n",
    "- Do basic input/output operations\n",
    "- Operate on built-in data structures"
   ]
  },
  {
   "cell_type": "code",
   "execution_count": 1,
   "id": "5bc1a0b0-816f-46ea-909c-595c402ebaf8",
   "metadata": {},
   "outputs": [
    {
     "name": "stdout",
     "output_type": "stream",
     "text": [
      "Python 3.8.11\n"
     ]
    }
   ],
   "source": [
    "!python -V"
   ]
  },
  {
   "cell_type": "markdown",
   "id": "75df3b3c-7cb8-40bd-954b-a7a71c763418",
   "metadata": {},
   "source": [
    "## Declaration of variables and datatypes"
   ]
  },
  {
   "cell_type": "code",
   "execution_count": 2,
   "id": "7eedbd70-9648-4100-9a4d-d8302fad0781",
   "metadata": {},
   "outputs": [],
   "source": [
    "# int\n",
    "var_1 = 1\n",
    "\n",
    "# float\n",
    "var_2 = 1.1\n",
    "\n",
    "# boolean\n",
    "var_3 = True\n",
    "\n",
    "# complex\n",
    "var_4 = 3 + 4j\n",
    "\n",
    "# string\n",
    "# immutable\n",
    "var_5 = 'I am a developer'\n",
    "\n",
    "# tuple\n",
    "var_6 = (1.1, 2, 'a', True)\n",
    "\n",
    "# list\n",
    "var_7 = [1,2,'b', True]\n",
    "\n",
    "# set\n",
    "var_8 = {1, 2, True, None}\n",
    "\n",
    "# dict\n",
    "var_9 = {'a': 1, 'b': [1,2,3], 'c': {'monday', 'tuesday', 'wednesday'}}\n",
    "\n",
    "# frozenset\n",
    "# immutable\n",
    "var_10 = frozenset([1,2,3,'weekday'])\n",
    "\n",
    "### TODO\n",
    "# google about how to use bytearray, byte datatypes"
   ]
  },
  {
   "cell_type": "markdown",
   "id": "69ef19cf-a961-4598-81a5-e6232c76ee31",
   "metadata": {},
   "source": [
    "## Working with expressions"
   ]
  },
  {
   "cell_type": "code",
   "execution_count": 3,
   "id": "a8d33ffe-7aec-4b15-8aca-35d1c6ec77d6",
   "metadata": {},
   "outputs": [
    {
     "name": "stdout",
     "output_type": "stream",
     "text": [
      "40.01551220814247\n"
     ]
    }
   ],
   "source": [
    "out_1 = 2 + (3 - 1) * 10 / 5 * (2 + 3)\n",
    "\n",
    "# formula of compound Interest\n",
    "# ci = A-P\n",
    "principal_amount = 150\n",
    "rate = 0.12\n",
    "number_of_times = 4\n",
    "time = 2\n",
    "amount = principal_amount * pow((1+rate/number_of_times),  (number_of_times*time))\n",
    "compound_interest = amount - principal_amount\n",
    "print(compound_interest)"
   ]
  },
  {
   "cell_type": "markdown",
   "id": "331507f8-2a5f-4c4e-921e-915270726726",
   "metadata": {},
   "source": [
    "## Input/Output operations"
   ]
  },
  {
   "cell_type": "code",
   "execution_count": 4,
   "id": "5d30327b-2b0b-465e-a32e-23e4316184b2",
   "metadata": {},
   "outputs": [
    {
     "name": "stdin",
     "output_type": "stream",
     "text": [
      "Enter a value 12\n"
     ]
    },
    {
     "name": "stdout",
     "output_type": "stream",
     "text": [
      "12,<class 'str'>,2564892349168\n",
      "The value of variable var_1: 12\n",
      "The value of variable var_1: 12\n"
     ]
    }
   ],
   "source": [
    "# raw input from stdin\n",
    "var_1 = input(\"Enter a value\")\n",
    "\n",
    "# output to stdout\n",
    "print(var_1, type(var_1), id(var_1), sep=',')\n",
    "\n",
    "# old format\n",
    "print('The value of variable var_1: %s'%var_1)\n",
    "\n",
    "# new format\n",
    "print('The value of variable var_1: {}'.format(var_1))"
   ]
  },
  {
   "cell_type": "markdown",
   "id": "741e6eeb-ba37-4704-9ba1-2623d51df4e4",
   "metadata": {},
   "source": [
    "## Working with data structures\n",
    "**Resources**\n",
    "- [Official Doc](https://docs.python.org/3/tutorial/datastructures.html)\n",
    "- [String](https://www.programiz.com/python-programming/methods/string)\n",
    "- [List](https://www.analyticsvidhya.com/blog/2021/06/15-functions-you-should-know-to-master-lists-in-python/)\n",
    "- [Set](https://realpython.com/python-sets/)\n",
    "- [Dictionary](https://www.geeksforgeeks.org/python-dictionary/)"
   ]
  },
  {
   "cell_type": "code",
   "execution_count": 5,
   "id": "eeeb423d-3d09-4422-8dbb-ff9a075859c4",
   "metadata": {},
   "outputs": [
    {
     "name": "stdout",
     "output_type": "stream",
     "text": [
      "[1, 2, 'a']\n",
      "[1, 2, 3]\n"
     ]
    }
   ],
   "source": [
    "# Mutable\n",
    "# list, set, dict\n",
    "list_1 = [1,2,'a']\n",
    "print(list_1)\n",
    "list_1[2] = 3\n",
    "print(list_1)"
   ]
  },
  {
   "cell_type": "code",
   "execution_count": 6,
   "id": "8d605c08-a42a-4966-8764-ccd8503666ad",
   "metadata": {},
   "outputs": [
    {
     "ename": "TypeError",
     "evalue": "'str' object does not support item assignment",
     "output_type": "error",
     "traceback": [
      "\u001b[1;31m---------------------------------------------------------------------------\u001b[0m",
      "\u001b[1;31mTypeError\u001b[0m                                 Traceback (most recent call last)",
      "\u001b[1;32m<ipython-input-6-55453db416e0>\u001b[0m in \u001b[0;36m<module>\u001b[1;34m\u001b[0m\n\u001b[0;32m      2\u001b[0m \u001b[1;31m# tuple, string, frozenset\u001b[0m\u001b[1;33m\u001b[0m\u001b[1;33m\u001b[0m\u001b[1;33m\u001b[0m\u001b[0m\n\u001b[0;32m      3\u001b[0m \u001b[0mstring_1\u001b[0m \u001b[1;33m=\u001b[0m \u001b[1;34m'I am a developer'\u001b[0m\u001b[1;33m\u001b[0m\u001b[1;33m\u001b[0m\u001b[0m\n\u001b[1;32m----> 4\u001b[1;33m \u001b[0mstring_1\u001b[0m\u001b[1;33m[\u001b[0m\u001b[1;36m0\u001b[0m\u001b[1;33m]\u001b[0m \u001b[1;33m=\u001b[0m \u001b[1;34m'You'\u001b[0m\u001b[1;33m\u001b[0m\u001b[1;33m\u001b[0m\u001b[0m\n\u001b[0m",
      "\u001b[1;31mTypeError\u001b[0m: 'str' object does not support item assignment"
     ]
    }
   ],
   "source": [
    "# immutable\n",
    "# tuple, string, frozenset\n",
    "string_1 = 'I am a developer'\n",
    "string_1[0] = 'You'"
   ]
  },
  {
   "cell_type": "code",
   "execution_count": 7,
   "id": "575569d9-dec0-4daa-82b6-26e6d9e4b4bc",
   "metadata": {},
   "outputs": [
    {
     "name": "stdout",
     "output_type": "stream",
     "text": [
      "I am a developer\n",
      "You am a developer\n"
     ]
    }
   ],
   "source": [
    "print(string_1)\n",
    "string_1 = string_1.replace('I', 'You')\n",
    "print(string_1)"
   ]
  },
  {
   "cell_type": "code",
   "execution_count": 8,
   "id": "1e5319a4-95aa-455c-90bf-2800c5b34472",
   "metadata": {},
   "outputs": [
    {
     "name": "stdout",
     "output_type": "stream",
     "text": [
      "1\n",
      "[1, 2, 'r']\n"
     ]
    }
   ],
   "source": [
    "# dictionary\n",
    "dict_1 = {'a': 1, 'b': [1,2,'r']}\n",
    "print(dict_1['a'])\n",
    "print(dict_1.get('b'))"
   ]
  },
  {
   "cell_type": "markdown",
   "id": "20c77874-8a71-4bf0-9739-5ee8c6675da9",
   "metadata": {},
   "source": [
    "## Assignment\n",
    "1. Write a program to print weekday based on user input, starting 0 as sunday (Tip: use dictionary).\n",
    "2. Take the sentence: `All work and no play makes Jack a dull boy`. Store each word in a separate variable, then print out the sentence on one line using `print()`.\n",
    "3. Write a program to convert a number to binary, decimal, hexadecimal.\n",
    "4. Write a program to get the middle element from a set and return `True` if its equal to last element else `False` (Tip: use equality operator)\n",
    "5. [Challange](https://leetcode.com/problems/length-of-last-word/)"
   ]
  },
  {
   "cell_type": "markdown",
   "id": "149559d9-b9ea-4a21-a4bf-0082213dc2f3",
   "metadata": {},
   "source": [
    "📢 **Register for 30 days of coding challange for beginners at [hackerrank](https://www.hackerrank.com/domains/tutorials/30-days-of-code)**"
   ]
  },
  {
   "cell_type": "code",
   "execution_count": 10,
   "id": "cdd85bd7-c4f2-4f6c-9fa9-1ca257541b03",
   "metadata": {},
   "outputs": [
    {
     "name": "stdout",
     "output_type": "stream",
     "text": [
      "All work   no play makes Jack a dull boy\n"
     ]
    }
   ],
   "source": [
    "# 2. Take the sentence: All work and no play makes Jack a dull boy. Store each word in a separate variable, then print out the sentence on one line using print().\n",
    "var_1 = 'All work and no play makes Jack a dull boy'\n",
    "var_2 = var_1.split(' ')\n",
    "print(\" \".join(var_2))"
   ]
  },
  {
   "cell_type": "code",
   "execution_count": 12,
   "id": "4208ed17-4191-49f3-a980-c50b8f4d40fd",
   "metadata": {},
   "outputs": [
    {
     "name": "stdin",
     "output_type": "stream",
     "text": [
      " 0\n"
     ]
    },
    {
     "data": {
      "text/plain": [
       "'Sunday'"
      ]
     },
     "execution_count": 12,
     "metadata": {},
     "output_type": "execute_result"
    }
   ],
   "source": [
    "weekdays = {'0': 'Sunday', '1': 'Monday'}\n",
    "user_input = input()\n",
    "weekdays[user_input]"
   ]
  }
 ],
 "metadata": {
  "kernelspec": {
   "display_name": "Python 3",
   "language": "python",
   "name": "python3"
  },
  "language_info": {
   "codemirror_mode": {
    "name": "ipython",
    "version": 3
   },
   "file_extension": ".py",
   "mimetype": "text/x-python",
   "name": "python",
   "nbconvert_exporter": "python",
   "pygments_lexer": "ipython3",
   "version": "3.8.11"
  }
 },
 "nbformat": 4,
 "nbformat_minor": 5
}
