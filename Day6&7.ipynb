{
 "cells": [
  {
   "cell_type": "markdown",
   "id": "a3854702-5e97-42be-a263-63b208bd2240",
   "metadata": {},
   "source": [
    "## A function is a block of code which only runs when it is called. You can pass data, known as parameters, into a function."
   ]
  },
  {
   "cell_type": "markdown",
   "id": "04a01374-9294-450a-929b-498c8cbc52ba",
   "metadata": {},
   "source": [
    "### High-order Functions\n",
    " 1. **Syntax**\n",
    "\n",
    "The high-order functions are defined using the reserved keyword `def`\n",
    "```python\n",
    "def foo():\n",
    "    return\n",
    "```\n",
    "**Note:** After the function is defined, you need to make a call to the function to be able to execute the block of code present inside it."
   ]
  },
  {
   "cell_type": "code",
   "execution_count": 3,
   "id": "bf207a95-5d70-46fa-8111-850b92d890ef",
   "metadata": {},
   "outputs": [
    {
     "name": "stdout",
     "output_type": "stream",
     "text": [
      "Binay Pradhan\n",
      "8\n"
     ]
    }
   ],
   "source": [
    "def display_name():\n",
    "    print(\"Binay Pradhan\")\n",
    "    \n",
    "def generate_random_value():\n",
    "    import random\n",
    "    return random.randint(1, 10)\n",
    "\n",
    "display_name()\n",
    "val = generate_random_value()\n",
    "print(val)"
   ]
  },
  {
   "cell_type": "markdown",
   "id": "5b2fcd53-eed6-4bca-8e8e-b307a54b5b6f",
   "metadata": {},
   "source": [
    " 2. **Arguments & Parameters**\n",
    "\n",
    "Information can be passed into functions as `arguments`. These are kept inside the function as variables called `parameters`\n",
    "```python\n",
    "def foo(var_a):\n",
    "    return var_a\n",
    "\n",
    "foo(3)\n",
    "## here 3 is the argument and its passed to foo(), there var_a variable/parameter keeps that value\n",
    "```\n",
    "There are different ways to define a parameter in a function:\n",
    "* `var_a` - here the parameter is received with same name at function side\n",
    "* `*args` - Here a tuple is received at function side\n",
    "* `**kwargs` - Here a dictionary is received at function side"
   ]
  },
  {
   "cell_type": "code",
   "execution_count": 12,
   "id": "59dfa264-e3dd-473d-b414-e8697d47d651",
   "metadata": {},
   "outputs": [
    {
     "name": "stdout",
     "output_type": "stream",
     "text": [
      "value of var_a before: 3\n",
      "value after function is executed: 5\n",
      "value of var_a after: 3\n"
     ]
    }
   ],
   "source": [
    "def function_var_a(var_a):\n",
    "    var_a += 2\n",
    "    return var_a\n",
    "\n",
    "var_a = 3\n",
    "print(\"value of var_a before:\", var_a)\n",
    "out = function_var_a(var_a=var_a)\n",
    "print(\"value after function is executed:\" ,out)\n",
    "\n",
    "# The varible defined inside a function or used inside is destroyed once it exists\n",
    "\n",
    "print(\"value of var_a after:\", var_a)"
   ]
  },
  {
   "cell_type": "code",
   "execution_count": 4,
   "id": "f83e467e-6d93-4720-8283-570254e47617",
   "metadata": {},
   "outputs": [
    {
     "name": "stdout",
     "output_type": "stream",
     "text": [
      "1\n",
      "2\n",
      "3\n",
      "0\n",
      "last entry is: 0\n",
      "1\n"
     ]
    }
   ],
   "source": [
    "def function_args(*args):\n",
    "    for i in args:\n",
    "        print(i)\n",
    "    print(\"last entry is:\", args[-1])\n",
    "    return args[0]\n",
    "\n",
    "val = function_args(\"1\", 2, 3, 0)\n",
    "print(val)"
   ]
  },
  {
   "cell_type": "code",
   "execution_count": 9,
   "id": "1c1a7a14-1968-49c0-832c-2f9e5e3997b9",
   "metadata": {},
   "outputs": [
    {
     "name": "stdout",
     "output_type": "stream",
     "text": [
      "Parameter you set: first_name, argument you gave: hello\n",
      "Parameter you set: last_name, argument you gave: world\n",
      "Parameter you set: middle_name, argument you gave: -\n",
      "hello\n"
     ]
    }
   ],
   "source": [
    "def function_kwargs(**kwargs):\n",
    "    for k, v in kwargs.items():\n",
    "        print(\"Parameter you set: {}, argument you gave: {}\".format(k,v))\n",
    "    print(kwargs['first_name'])\n",
    "    return None\n",
    "\n",
    "function_kwargs(first_name=\"hello\", last_name=\"world\", middle_name=\"-\")"
   ]
  },
  {
   "cell_type": "markdown",
   "id": "1625bc69-0405-413e-b0d1-4a700b5b4806",
   "metadata": {},
   "source": [
    " 3. **Recursion**\n",
    "Recursion is a concept when a function calls itself and loops until it reaches the desired end condition.\n",
    "\n",
    "It results in similar behavior to `for` or `while` loops, except recursion `progresses closer to a target condition`, while `for loops run a set number of times`, and `while loops run until a condition is no longer met`.\n",
    "\n",
    "* **pros:** - Faster when optimized\n",
    "* **cons:** - Uses more memory and has a limit to a certain recursion depth (1000 nested depth)\n",
    "\n",
    "**Syntax**\n",
    "```python\n",
    "def function(x):\n",
    "    # codes\n",
    "    return function(x)\n",
    "```\n",
    "\n",
    "example:\n",
    "```python\n",
    "def foo(x):\n",
    "    ## some code\n",
    "    print(x)\n",
    "    if x < 0:\n",
    "        return None\n",
    "    foo(x - 1)\n",
    "\n",
    "foo(10)\n",
    "```\n",
    "output\n",
    "```\n",
    "10\n",
    "9\n",
    "8\n",
    "7\n",
    "6\n",
    "5\n",
    "4\n",
    "3\n",
    "2\n",
    "1\n",
    "0\n",
    "-1\n",
    "```\n",
    "\n",
    "**Note:** - It always has a return statement to break the flow of control when the end condition is met."
   ]
  },
  {
   "cell_type": "code",
   "execution_count": 29,
   "id": "0ce69dcf-32bd-48de-a438-1a914ca63dd4",
   "metadata": {},
   "outputs": [],
   "source": [
    "## fibonacii series\n",
    "# 0 1 1 2 3 5 8 . . . .\n",
    "def fibonacii(x):\n",
    "    if x == 0:\n",
    "        return 0\n",
    "    if x == 1 or x==2:\n",
    "        return 1\n",
    "    return fibonacii(x-1) + fibonacii(x-2)"
   ]
  },
  {
   "cell_type": "code",
   "execution_count": 30,
   "id": "0ddeabc9-6c4a-4622-8e5c-f8ae8ff87008",
   "metadata": {},
   "outputs": [
    {
     "data": {
      "text/plain": [
       "3"
      ]
     },
     "execution_count": 30,
     "metadata": {},
     "output_type": "execute_result"
    }
   ],
   "source": [
    "fibonacii(4)"
   ]
  },
  {
   "cell_type": "code",
   "execution_count": 33,
   "id": "2671db01-55c1-48c7-a6fd-280d437bc0d4",
   "metadata": {},
   "outputs": [],
   "source": [
    "### Write a program to get the factorial of a number\n",
    "# 0! = 1\n",
    "# 1! = 1\n",
    "# 3! = 3*2*1\n",
    "# 5! = 5*4*3*2*1\n",
    "\n",
    "def factorial(n):\n",
    "    if n==0:\n",
    "        return 1\n",
    "    if n==1:\n",
    "        return 1\n",
    "    return n*factorial(n-1)"
   ]
  },
  {
   "cell_type": "code",
   "execution_count": 34,
   "id": "62cb718e-f018-4736-a8b2-095103b1161f",
   "metadata": {},
   "outputs": [
    {
     "data": {
      "text/plain": [
       "120"
      ]
     },
     "execution_count": 34,
     "metadata": {},
     "output_type": "execute_result"
    }
   ],
   "source": [
    "factorial(5)"
   ]
  },
  {
   "cell_type": "markdown",
   "id": "769a4296-04ea-464c-a6fc-0f1bc8542b7c",
   "metadata": {},
   "source": [
    "### Anonymous Functions\n",
    " - **lambda operator**\n",
    "Single line high-order functions can be converted to lambda operator or so called function\n",
    "\n",
    "**Syntax**\n",
    "```python\n",
    "def func_1(variable):\n",
    "    return expression\n",
    "\n",
    "# or\n",
    "def func_2(variable): return expression\n",
    "\n",
    "# lambda equivalent\n",
    "func = lambda variable: expression\n",
    "```"
   ]
  },
  {
   "cell_type": "code",
   "execution_count": 35,
   "id": "ac304af1-69dd-4d46-91cf-211543a07858",
   "metadata": {},
   "outputs": [
    {
     "data": {
      "text/plain": [
       "function"
      ]
     },
     "execution_count": 35,
     "metadata": {},
     "output_type": "execute_result"
    }
   ],
   "source": [
    "add = lambda a,b: a+b\n",
    "type(add)"
   ]
  },
  {
   "cell_type": "code",
   "execution_count": 36,
   "id": "f94aaf15-c070-44c0-9e6b-710bc0cb6bb9",
   "metadata": {},
   "outputs": [
    {
     "data": {
      "text/plain": [
       "7"
      ]
     },
     "execution_count": 36,
     "metadata": {},
     "output_type": "execute_result"
    }
   ],
   "source": [
    "add(3,4)"
   ]
  },
  {
   "cell_type": "markdown",
   "id": "e7606fe4-e577-43dd-bbf2-aded3a8d0c78",
   "metadata": {},
   "source": [
    "### Advanced functions\n",
    "Map, Filter, and Reduce are paradigms of functional programming.\n",
    "\n",
    "These three functions allow you to apply a function across a number of `iterables`. `map` and `filter` come built-in with Python `built-in module` and require no importing. `reduce`, however, needs to be imported as it resides in the `functools` module."
   ]
  },
  {
   "cell_type": "markdown",
   "id": "760f6b00-0da8-402d-8bf3-b87e42910602",
   "metadata": {},
   "source": [
    "1. **map()**\n",
    "\n",
    "This passes each element from the iterable to the function.\n",
    "\n",
    "**Syntax**\n",
    "```python\n",
    "map(function, *iterable)\n",
    "```"
   ]
  },
  {
   "cell_type": "code",
   "execution_count": 38,
   "id": "02f13078-02bf-4ae4-914c-71015c87bb79",
   "metadata": {},
   "outputs": [
    {
     "name": "stdout",
     "output_type": "stream",
     "text": [
      "Using for loop\n",
      "1\n",
      "2\n",
      "Using map\n",
      "[1, 2]\n"
     ]
    }
   ],
   "source": [
    "def convert_int(x):\n",
    "    return int(x)\n",
    "a = ['1', '2']\n",
    "\n",
    "print(\"Using for loop\")\n",
    "for i in a:\n",
    "    print(convert_int(x = i))\n",
    "    \n",
    "print(\"Using map\")\n",
    "b = list(map(convert_int, a))\n",
    "print(b)"
   ]
  },
  {
   "cell_type": "markdown",
   "id": "898ca0cd-f7f8-47ff-b55d-4d0093ae9160",
   "metadata": {},
   "source": [
    "2. **filter()**\n",
    "\n",
    "Like `map()` each element is passed to the function, Unlike `map()` this return `True/False` and then filters out False and `returns the elements` of index where it found True."
   ]
  },
  {
   "cell_type": "code",
   "execution_count": 39,
   "id": "06f6a216-6dfa-4080-856c-0a97804fb8d9",
   "metadata": {},
   "outputs": [
    {
     "name": "stdout",
     "output_type": "stream",
     "text": [
      "[25]\n"
     ]
    }
   ],
   "source": [
    "def find_greater_0(x):\n",
    "    x = x - 10\n",
    "    return x > 0\n",
    "a = [10, 0, 5, 25]\n",
    "\n",
    "b = list(filter(find_greater_0, a))\n",
    "print(b)"
   ]
  },
  {
   "cell_type": "code",
   "execution_count": 43,
   "id": "487abecb-ceb4-40c6-b1d0-6006631f7c81",
   "metadata": {},
   "outputs": [
    {
     "name": "stdout",
     "output_type": "stream",
     "text": [
      "[25]\n"
     ]
    }
   ],
   "source": [
    "## using lambda\n",
    "\n",
    "a=[10, 0, 5, 25]\n",
    "b = list(filter(lambda x: x-10 > 0, a))\n",
    "print(b)"
   ]
  },
  {
   "cell_type": "markdown",
   "id": "8601ee52-d05d-480a-a68b-c8dc3030806b",
   "metadata": {},
   "source": [
    "3. **reduce()**\n",
    "\n",
    "From `python 3.x` reduce is not a part of python built-in module.\n",
    "Use this at the top before using reduce: `from functool import reduce`\n",
    "\n",
    "This takes 2 numbers into the function from the iterable. for example if the iterable is `[1, 3, 5, 9]`. operation is done by inserting a `0` at beginning if a default value is not passed.\n",
    "\n",
    "Operation pair proceeds as: `a = (0,1)`, `a = (a, 3)`, `a = (a, 5)`, `a = (a, 9)` and then `a is returned` "
   ]
  },
  {
   "cell_type": "code",
   "execution_count": 44,
   "id": "67ba42a3-f4d4-41a5-8319-d80e70f3f11a",
   "metadata": {},
   "outputs": [
    {
     "name": "stdout",
     "output_type": "stream",
     "text": [
      "18\n"
     ]
    }
   ],
   "source": [
    "def add(a, b):\n",
    "    return a+b\n",
    "\n",
    "from functools import reduce\n",
    "array = [1,3,5,9]\n",
    "result = reduce(add, array)\n",
    "print(result)"
   ]
  },
  {
   "cell_type": "markdown",
   "id": "fe27ccc2-4204-4734-ab13-e4090535e0ce",
   "metadata": {},
   "source": [
    "# DYI\n",
    "### Class and instances\n",
    "- **Inheritance**\n",
    "\n",
    "**Programming exercise**\n",
    "1. Write a class `Series`. This class should have 3 methods `fibonacii`, `tribonacii`, and `factorial` methods. Take number as input from user while instantiating the object.\n",
    "2. Write another class `ModifiedSeries`. This class should inherit the base class `Series` and should have another method `pattern` that does the following:\n",
    "```\n",
    "1\n",
    "1 2\n",
    "1 2 3\n",
    "1 2 3 4\n",
    ".\n",
    ".\n",
    ".\n",
    "so on\n",
    "```\n",
    "Take number as input from user while instantiating the object."
   ]
  },
  {
   "cell_type": "markdown",
   "id": "2857b0fd-3bef-4999-aa61-b957ab203b74",
   "metadata": {},
   "source": [
    "- **Generators**\n",
    "Generators behave like a normal function, except it `doesn't returns it yields`. After yeilding the control however remains at the same address. While after returning the control comes out of function.\n",
    "\n",
    "To get to the next yield, use ``__next__()`` method after the function call"
   ]
  },
  {
   "cell_type": "code",
   "execution_count": 63,
   "id": "ef32f727-59e3-4b4b-8a49-bdc4054d835e",
   "metadata": {},
   "outputs": [],
   "source": [
    "def do_something(x):\n",
    "    x = str(x) + ' something'\n",
    "    yield x\n",
    "    x = str(x) + ' after yield'\n",
    "    yield x\n",
    "    x = str(x) + ' last statement'\n",
    "    yield x"
   ]
  },
  {
   "cell_type": "code",
   "execution_count": 65,
   "id": "8a7fd044-e533-4b54-9966-fb05ad02da63",
   "metadata": {},
   "outputs": [
    {
     "name": "stdout",
     "output_type": "stream",
     "text": [
      "there is something\n",
      "there is something after yield\n",
      "there is something after yield last statement\n"
     ]
    }
   ],
   "source": [
    "val = do_something('there is')\n",
    "print(val.__next__())\n",
    "print(val.__next__())\n",
    "print(val.__next__())"
   ]
  },
  {
   "cell_type": "markdown",
   "id": "5d58f0de-b80d-4221-bb92-a215a0ebd166",
   "metadata": {},
   "source": [
    "### Assignment\n",
    "- What is the difference between Procedural, OOPs and Functional style of programming?\n",
    "- What is the scope of a variable?"
   ]
  },
  {
   "cell_type": "markdown",
   "id": "50b91c46-82ec-4088-b523-ec84e0068299",
   "metadata": {},
   "source": [
    "### Resources\n",
    "- [High-Order Functions](https://www.w3schools.com/python/python_functions.asp)\n",
    "- [Anonymous Functions and Advanced functions](https://www.learnpython.org/en/Map%2C_Filter%2C_Reduce)\n",
    "- [Class](https://www.codecademy.com/learn/learn-python-3/modules/learn-python3-classes/cheatsheet)"
   ]
  },
  {
   "cell_type": "code",
   "execution_count": null,
   "id": "212d1cf6-8326-4e59-a499-1e2aa5877548",
   "metadata": {},
   "outputs": [],
   "source": []
  }
 ],
 "metadata": {
  "kernelspec": {
   "display_name": "Python 3",
   "language": "python",
   "name": "python3"
  },
  "language_info": {
   "codemirror_mode": {
    "name": "ipython",
    "version": 3
   },
   "file_extension": ".py",
   "mimetype": "text/x-python",
   "name": "python",
   "nbconvert_exporter": "python",
   "pygments_lexer": "ipython3",
   "version": "3.8.11"
  }
 },
 "nbformat": 4,
 "nbformat_minor": 5
}
