{
 "cells": [
  {
   "cell_type": "markdown",
   "id": "71c62133-c983-48ca-9962-d6fd9730d18d",
   "metadata": {},
   "source": [
    "## Why use programming, especially python?\n",
    "\n",
    "- https://www.howtopython.org/comparing-python-to-other-languages/\n",
    "\n",
    "## Setting up of environment and installation of tools\n",
    "**Windows**\n",
    "- [Anaconda navigator](https://www.anaconda.com/products/individual)\n",
    "    * Python & IPython Interpretor\n",
    "    * Notebooks\n",
    "    * Machine learning based packages\n",
    "- [Visual studio code editor](https://code.visualstudio.com/download)\n",
    "    * Code editor\n",
    "\n",
    "## Follow this strategy\n",
    "- Code Everyday. Even 5-10 lines is acceptable\n",
    "- Revise your note before you start your day\n",
    "- Ask yourself a real world question and build a conceptual solution"
   ]
  },
  {
   "cell_type": "code",
   "execution_count": 1,
   "id": "d219794b-0e03-405b-946c-5ead04867c67",
   "metadata": {},
   "outputs": [
    {
     "name": "stdout",
     "output_type": "stream",
     "text": [
      "Welcome bpradhan, you are working inside folder C:\\Users\\bpradhan\\Desktop\\Training Session. You ran this code at 2021-08-27 16:07:43.754211+05:30\n"
     ]
    }
   ],
   "source": [
    "## welcome to python programming\n",
    "import os\n",
    "from datetime import datetime, timezone, timedelta\n",
    "pwd = os.getcwd()\n",
    "user = os.getlogin()\n",
    "time = datetime.now(timezone(offset=timedelta(hours=5, minutes=30)))\n",
    "print(\"Welcome {0}, you are working inside folder {1}. You ran this code at {2}\".format(user, pwd, time))"
   ]
  },
  {
   "cell_type": "markdown",
   "id": "22ae9609-4577-4b6a-a8e0-9749b9b5dc5d",
   "metadata": {},
   "source": [
    "# Resources\n",
    "**Online Programming platform**\n",
    "- [LeetCode](https://leetcode.com/)\n",
    "- [Hackerrank](https://www.hackerrank.com/)\n",
    "- [codewars](https://www.codewars.com)\n",
    "\n",
    "**Reading materials**\n",
    "- [Kaggle course](https://www.kaggle.com/learn)\n",
    "- [Interactive tutorial](https://www.learnpython.org/)\n",
    "\n",
    "**Youtube materials**\n",
    "- [Full python - Sentdex](https://youtube.com/playlist?list=PLQVvvaa0QuDeAams7fkdcwOGBpGdHpXln)\n",
    "- [Full python - Microsoft](https://youtube.com/playlist?list=PLlrxD0HtieHhS8VzuMCfQD4uJ9yne1mE6)\n",
    "\n",
    "**Suggested Book**\n",
    "- [Learn Python the Hard Way](https://www.oreilly.com/library/view/learn-python-the/9780133124316/)\n",
    "\n",
    "**Extra**\n",
    "- [list of programming language compilers](https://www.codechef.com/wiki/list-compilers)"
   ]
  },
  {
   "cell_type": "code",
   "execution_count": null,
   "id": "53df7049-5824-4ddb-b0a5-940c02e3392b",
   "metadata": {},
   "outputs": [],
   "source": []
  }
 ],
 "metadata": {
  "kernelspec": {
   "display_name": "Python 3",
   "language": "python",
   "name": "python3"
  },
  "language_info": {
   "codemirror_mode": {
    "name": "ipython",
    "version": 3
   },
   "file_extension": ".py",
   "mimetype": "text/x-python",
   "name": "python",
   "nbconvert_exporter": "python",
   "pygments_lexer": "ipython3",
   "version": "3.8.11"
  }
 },
 "nbformat": 4,
 "nbformat_minor": 5
}
