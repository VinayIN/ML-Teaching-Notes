{
 "cells": [
  {
   "cell_type": "markdown",
   "id": "62c0f2cc-82f3-4628-a939-98890f2c02fb",
   "metadata": {},
   "source": [
    "## NumPy\n",
    "NumpPy is the fundamental package for scientific computing in python. At the core, NumPy package is the ndarray object.\n",
    "\n",
    "Almost all python projects thesdays have NumPy usage in them. `Pandas`, `Matplotlib`, and `Scikit-Learn` are built on top of NumPy.\n",
    "\n",
    "NumPy has some important difference when compared to standard python Sequence.\n",
    "1. NumPy arrays have a `fixed size at creation`, unlike Python lists (which can grow dynamically). Changing the size of an ndarray will create a new array and delete the original.\n",
    "2. The elements in a NumPy array are all required to be of the `same data type, and thus will be the same size in memory`. The exception: one can have arrays of (Python, including NumPy) objects, thereby allowing for arrays of different sized elements.\n",
    "\n",
    "\n",
    "**Arrays** are a collection of elements/values, that can have one or more dimensions. `An array of one dimension is called a Vector while having two dimensions is called a Matrix.`\n",
    "\n",
    "**NumPy** arrays are called **ndarray** or **N-dimensional arrays** and they store elements of the same type and size. It is known for its high-performance and provides efficient storage and data operations as arrays grow in size.\n"
   ]
  },
  {
   "cell_type": "markdown",
   "id": "6da5a0cd-1631-4119-9ebe-30290a8bfdf1",
   "metadata": {},
   "source": [
    "## Usage\n",
    "Import the package as a namespace\n",
    "```python\n",
    "import numpy as np\n",
    "```\n",
    "\n",
    "1. Defining an ndarray\n",
    "    - `np.array(), np.ones(), np.zeros(), np.empty(), np.full(), np.eye()`\n",
    "    - `np.arange(), np.linspace()`\n",
    "    - `np.random.random()` : np.random has many methods, Search - DYI\n",
    "2. Some attributes of ndarray\n",
    "    - `ndarray.ndim`\n",
    "    - `ndarray.shape`\n",
    "    - `ndarray.size`\n",
    "    - `ndarray.dtype`\n",
    "    - `ndarray.data`\n",
    "    - `ndarray.reshape()`\n",
    "3. Basic operation\n",
    "    - `ndarray.flatten(), ndarray.ravel()` : to convert n-dimentional array to 1-D\n",
    "    - `ndarray.transpose()` : Convert X-axis to Y-axis\n",
    "    - slicing format `[start:stop:step-size]`\n",
    "    - `np.vstack()` : stack arrays on top of each other\n",
    "    - `np.hstack()` : stack arrays side by side\n",
    "    - `np.concatenate()` : vstack and hstack can be performed along axis\n",
    "    - `np.sort()`\n",
    "    - `np.split()` : split the array into sub-arrays\n",
    "4. Universal functions `more about:` [ufunc](https://docs.scipy.org/doc/numpy-1.3.x/reference/ufuncs.html#available-ufuncs): All these functions are perfomed elementwise on the matrix.\n",
    "    - `np.sin(), np.cos(), np.tan()`\n",
    "    - `np.arcsin(), np.arccos(), np.arctan()` : Inverse\n",
    "    - `np.hypot()` : hypotenuse\n",
    "    - `np.sinh(), np.cosh(), np.tanh()`\n",
    "    - `np.arcsinh(), np.arccosh(), np.arctanh()` : Inverse\n",
    "    - `np.deg2rad(), np.rad2deg()`\n",
    "    - `np.max(), np.amax(), np.min(), np.amin()`\n",
    "    - `np.median(), np.mean(), np.std(), np.var(), np.average()`\n",
    "    - `np.floor(), np.ceil(), np.trunc(), np.mod(), np.fmod(), np.modf()`\n",
    "    - `np.isnan(), np.power(), np.absolute(), np.exp(), np.log()`\n",
    "    - `+, *, -, /` : ndarray direct operation using opreator\n",
    "    - `np.where()`\n",
    "    \n",
    "    \n",
    "    \n",
    "    \n",
    "**Extras:**\n",
    "- `axis 0` is the first axis, its the direction along the rows. it runs downwards\n",
    "- `axis 1` is the direction along columns, it runs across"
   ]
  },
  {
   "cell_type": "markdown",
   "id": "72609e3c-902e-47f7-af30-8bb303233446",
   "metadata": {},
   "source": [
    "## EXERCISE"
   ]
  },
  {
   "cell_type": "code",
   "execution_count": 1,
   "id": "59bd40c5-6945-4e5a-bf5d-98d6b56e6767",
   "metadata": {},
   "outputs": [
    {
     "data": {
      "text/plain": [
       "'1.20.3'"
      ]
     },
     "execution_count": 1,
     "metadata": {},
     "output_type": "execute_result"
    }
   ],
   "source": [
    "# Importing NumPy and printing version number\n",
    "import numpy as np\n",
    "np.__version__"
   ]
  },
  {
   "cell_type": "code",
   "execution_count": 2,
   "id": "993a6be5-c440-46de-8cfa-55afa45bde54",
   "metadata": {},
   "outputs": [
    {
     "data": {
      "text/plain": [
       "array([[0., 0., 0., 0., 0.]])"
      ]
     },
     "execution_count": 2,
     "metadata": {},
     "output_type": "execute_result"
    }
   ],
   "source": [
    "# Create a zero array\n",
    "a1 = np.zeros(shape=(1,5))\n",
    "a1"
   ]
  },
  {
   "cell_type": "code",
   "execution_count": 3,
   "id": "46c050d9-6e3f-45d9-898e-eaa0b5872bad",
   "metadata": {},
   "outputs": [
    {
     "data": {
      "text/plain": [
       "array([[0.50471463, 0.68291244],\n",
       "       [0.80433269, 0.27968192],\n",
       "       [0.28947989, 0.81968011]])"
      ]
     },
     "execution_count": 3,
     "metadata": {},
     "output_type": "execute_result"
    }
   ],
   "source": [
    "# Element-wise addition of 2 numpy arrays\n",
    "a1 = np.random.random(size=(3,2))\n",
    "a1"
   ]
  },
  {
   "cell_type": "code",
   "execution_count": 4,
   "id": "5f004933-b972-4298-a069-936c86edc1bc",
   "metadata": {},
   "outputs": [
    {
     "data": {
      "text/plain": [
       "array([[0.99959251, 0.64699866],\n",
       "       [0.4548119 , 0.86613274],\n",
       "       [0.45416962, 0.29759142]])"
      ]
     },
     "execution_count": 4,
     "metadata": {},
     "output_type": "execute_result"
    }
   ],
   "source": [
    "a2 = np.random.random(size=(3,2))\n",
    "a2"
   ]
  },
  {
   "cell_type": "code",
   "execution_count": 5,
   "id": "2ecc7b2c-3492-42cd-ad53-cf00e3a7db28",
   "metadata": {},
   "outputs": [
    {
     "data": {
      "text/plain": [
       "array([[1.50430713, 1.3299111 ],\n",
       "       [1.25914459, 1.14581466],\n",
       "       [0.74364951, 1.11727153]])"
      ]
     },
     "execution_count": 5,
     "metadata": {},
     "output_type": "execute_result"
    }
   ],
   "source": [
    "a1 + a2"
   ]
  },
  {
   "cell_type": "code",
   "execution_count": 6,
   "id": "1935c772-76ae-4a5a-97ed-4aba0bd4a99e",
   "metadata": {},
   "outputs": [
    {
     "name": "stdout",
     "output_type": "stream",
     "text": [
      "Before\n",
      "[[ 1  2  4]\n",
      " [11 22 33]]\n",
      "After\n"
     ]
    },
    {
     "data": {
      "text/plain": [
       "array([[  5,  10,  20],\n",
       "       [ 55, 110, 165]])"
      ]
     },
     "execution_count": 6,
     "metadata": {},
     "output_type": "execute_result"
    }
   ],
   "source": [
    "# Multiplying a matrix (numpy array) by a scalar\n",
    "val = 5\n",
    "a1 = np.array([[1,2,4], [11,22,33]])\n",
    "print(\"Before\")\n",
    "print(a1)\n",
    "\n",
    "print(\"After\")\n",
    "5 * a1"
   ]
  },
  {
   "cell_type": "code",
   "execution_count": 7,
   "id": "49721148-c04a-4747-b3b4-69a61b4c9833",
   "metadata": {},
   "outputs": [
    {
     "data": {
      "text/plain": [
       "array([[1., 0., 0., 0.],\n",
       "       [0., 1., 0., 0.],\n",
       "       [0., 0., 1., 0.]])"
      ]
     },
     "execution_count": 7,
     "metadata": {},
     "output_type": "execute_result"
    }
   ],
   "source": [
    "# create a identity Matrix\n",
    "e = np.eye(N=3, M=4, k=0)\n",
    "e"
   ]
  },
  {
   "cell_type": "code",
   "execution_count": 8,
   "id": "5847f0fb-00d4-4fa9-a2b2-18196d6602bc",
   "metadata": {},
   "outputs": [
    {
     "data": {
      "text/plain": [
       "(3, 4)"
      ]
     },
     "execution_count": 8,
     "metadata": {},
     "output_type": "execute_result"
    }
   ],
   "source": [
    "# Array re-dimensioning\n",
    "arr1 = np.eye(N=3, M=4, k=0)\n",
    "arr1.shape"
   ]
  },
  {
   "cell_type": "code",
   "execution_count": 9,
   "id": "51f489f1-8479-4780-8dac-6d6f237be4b0",
   "metadata": {},
   "outputs": [
    {
     "data": {
      "text/plain": [
       "array([[1., 0.],\n",
       "       [0., 0.],\n",
       "       [0., 1.],\n",
       "       [0., 0.],\n",
       "       [0., 0.],\n",
       "       [1., 0.]])"
      ]
     },
     "execution_count": 9,
     "metadata": {},
     "output_type": "execute_result"
    }
   ],
   "source": [
    "arr1.reshape((6,2))"
   ]
  },
  {
   "cell_type": "code",
   "execution_count": 10,
   "id": "62cfaa36-69ab-48f3-95a2-796bdde16e03",
   "metadata": {},
   "outputs": [
    {
     "data": {
      "text/plain": [
       "array([[1., 0.],\n",
       "       [0., 0.],\n",
       "       [0., 1.],\n",
       "       [0., 0.],\n",
       "       [0., 0.],\n",
       "       [1., 0.]])"
      ]
     },
     "execution_count": 10,
     "metadata": {},
     "output_type": "execute_result"
    }
   ],
   "source": [
    "# Array datatype conversion - Obtaining Boolean Array from Binary Array\n",
    "arr2 = np.array([[1., 0.],\n",
    "       [0., 0.],\n",
    "       [0., 1.],\n",
    "       [0., 0.],\n",
    "       [0., 0.],\n",
    "       [1., 0.]])\n",
    "arr2"
   ]
  },
  {
   "cell_type": "code",
   "execution_count": 11,
   "id": "fd91707b-0b56-4fb3-aad0-a8574d4857a2",
   "metadata": {},
   "outputs": [
    {
     "data": {
      "text/plain": [
       "array([[ True, False],\n",
       "       [False, False],\n",
       "       [False,  True],\n",
       "       [False, False],\n",
       "       [False, False],\n",
       "       [ True, False]])"
      ]
     },
     "execution_count": 11,
     "metadata": {},
     "output_type": "execute_result"
    }
   ],
   "source": [
    "arr3= arr2.astype('bool')\n",
    "arr3"
   ]
  },
  {
   "cell_type": "code",
   "execution_count": 12,
   "id": "d0d5ccaa-e08b-43d9-a5fd-d3645ad6c568",
   "metadata": {},
   "outputs": [
    {
     "name": "stdout",
     "output_type": "stream",
     "text": [
      "[[0.6377334  0.5308792  0.01250028 0.95387525 0.64597131]]\n",
      "[[0.6261321  0.35625058 0.24946421 0.14055723 0.01656466]]\n"
     ]
    }
   ],
   "source": [
    "# Horizontal Stacking of Numpy Arrays\n",
    "a2 = np.random.random(size=(1,5))\n",
    "a1 = np.random.random(size=(1,5))\n",
    "print(a1)\n",
    "print(a2)"
   ]
  },
  {
   "cell_type": "code",
   "execution_count": 13,
   "id": "25de23ae-d010-49ff-be34-f3eb0883a51c",
   "metadata": {},
   "outputs": [
    {
     "data": {
      "text/plain": [
       "array([[0.6377334 , 0.5308792 , 0.01250028, 0.95387525, 0.64597131,\n",
       "        0.6261321 , 0.35625058, 0.24946421, 0.14055723, 0.01656466]])"
      ]
     },
     "execution_count": 13,
     "metadata": {},
     "output_type": "execute_result"
    }
   ],
   "source": [
    "np.hstack((a1,a2))"
   ]
  },
  {
   "cell_type": "code",
   "execution_count": 14,
   "id": "4d569d59-dbd3-402d-bf1e-b4f5f8ae803c",
   "metadata": {},
   "outputs": [
    {
     "data": {
      "text/plain": [
       "array([[0.6377334 , 0.5308792 , 0.01250028, 0.95387525, 0.64597131],\n",
       "       [0.6261321 , 0.35625058, 0.24946421, 0.14055723, 0.01656466]])"
      ]
     },
     "execution_count": 14,
     "metadata": {},
     "output_type": "execute_result"
    }
   ],
   "source": [
    "# Vertically Stacking of Numpy Arrays\n",
    "np.vstack((a1,a2))"
   ]
  },
  {
   "cell_type": "code",
   "execution_count": 15,
   "id": "4d6c97d1-0d50-4856-8a40-9babedf4e345",
   "metadata": {},
   "outputs": [
    {
     "data": {
      "text/plain": [
       "array([ 0,  2,  4,  6,  8, 11, 13, 15, 17, 20])"
      ]
     },
     "execution_count": 15,
     "metadata": {},
     "output_type": "execute_result"
    }
   ],
   "source": [
    "# Sequence Generation\n",
    "np.linspace(0, 20, num=10, dtype='int')"
   ]
  },
  {
   "cell_type": "code",
   "execution_count": 16,
   "id": "7473a2bd-df04-4fec-8323-387d84d121e3",
   "metadata": {},
   "outputs": [
    {
     "data": {
      "text/plain": [
       "(array([0, 0, 1], dtype=int64), array([0, 1, 1], dtype=int64))"
      ]
     },
     "execution_count": 16,
     "metadata": {},
     "output_type": "execute_result"
    }
   ],
   "source": [
    "# Getting the positions (indexes) where elements of 2 numpy arrays match\n",
    "a = np.array([[1,2,4], [3,4,5]])\n",
    "b = np.array([[1,2,5], [1,4,7]])\n",
    "np.where(a==b)"
   ]
  },
  {
   "cell_type": "code",
   "execution_count": 17,
   "id": "d733ba23-f7d3-4f94-9bb3-63841fcdb23f",
   "metadata": {},
   "outputs": [
    {
     "data": {
      "text/plain": [
       "array([ 0,  2,  4,  6,  8, 11, 13, 15, 17, 20])"
      ]
     },
     "execution_count": 17,
     "metadata": {},
     "output_type": "execute_result"
    }
   ],
   "source": [
    "# Generation of given count of equally spaced numbers within a specified range\n",
    "np.linspace(0, 20, num=10, dtype='int')"
   ]
  },
  {
   "cell_type": "code",
   "execution_count": 18,
   "id": "13938799-c1bb-453b-9267-e2f5736930b3",
   "metadata": {},
   "outputs": [
    {
     "data": {
      "text/plain": [
       "array([[10, 10, 10],\n",
       "       [10, 10, 10],\n",
       "       [10, 10, 10]])"
      ]
     },
     "execution_count": 18,
     "metadata": {},
     "output_type": "execute_result"
    }
   ],
   "source": [
    "# Matrix Generation with one particular value\n",
    "np.full((3,3),fill_value=10)"
   ]
  },
  {
   "cell_type": "code",
   "execution_count": 19,
   "id": "08234af2-f1af-48da-a160-b6b26f2c28f1",
   "metadata": {},
   "outputs": [
    {
     "data": {
      "text/plain": [
       "array([[2, 2, 2],\n",
       "       [2, 2, 3],\n",
       "       [3, 3, 3]])"
      ]
     },
     "execution_count": 19,
     "metadata": {},
     "output_type": "execute_result"
    }
   ],
   "source": [
    "# Array Generation of random integers within a specified range\n",
    "np.random.randint(low=2, high=4, size=(3,3))"
   ]
  },
  {
   "cell_type": "code",
   "execution_count": 20,
   "id": "f789ddc7-9b63-438a-816b-3b24159d5ff4",
   "metadata": {},
   "outputs": [
    {
     "data": {
      "text/plain": [
       "array([[1.85166354, 4.22234627, 3.48197607],\n",
       "       [2.60143398, 2.51822624, 2.73461247]])"
      ]
     },
     "execution_count": 20,
     "metadata": {},
     "output_type": "execute_result"
    }
   ],
   "source": [
    "# Array Generation of random numbers following normal distribution\n",
    "np.random.normal(loc=3.0, scale=0.9, size=(2,3))"
   ]
  },
  {
   "cell_type": "code",
   "execution_count": 21,
   "id": "960b0afc-c969-4650-bfff-b34a815300c2",
   "metadata": {},
   "outputs": [
    {
     "name": "stdout",
     "output_type": "stream",
     "text": [
      "[[1 2 4]\n",
      " [3 4 5]] (2, 3)\n",
      "[[1 2]\n",
      " [1 4]\n",
      " [3 4]] (3, 2)\n"
     ]
    },
    {
     "data": {
      "text/plain": [
       "array([[15, 26],\n",
       "       [22, 42]])"
      ]
     },
     "execution_count": 21,
     "metadata": {},
     "output_type": "execute_result"
    }
   ],
   "source": [
    "# Matrix Multiplication\n",
    "a = np.array([[1,2,4], [3,4,5]])\n",
    "b = np.array([[1,2], [1,4], [3,4]])\n",
    "print(a, a.shape)\n",
    "print(b, b.shape)\n",
    "\n",
    "np.dot(a,b)"
   ]
  },
  {
   "cell_type": "code",
   "execution_count": 22,
   "id": "95d8c84c-05df-4842-893c-01fee54f55b7",
   "metadata": {},
   "outputs": [
    {
     "data": {
      "text/plain": [
       "array([[1, 1, 3],\n",
       "       [2, 4, 4]])"
      ]
     },
     "execution_count": 22,
     "metadata": {},
     "output_type": "execute_result"
    }
   ],
   "source": [
    "# Matrix Transpose\n",
    "c = np.array([[1,2], [1,4], [3,4]])\n",
    "c.transpose()"
   ]
  },
  {
   "cell_type": "code",
   "execution_count": 23,
   "id": "20887752-acd6-4e33-8dfc-92131004664c",
   "metadata": {},
   "outputs": [
    {
     "data": {
      "text/plain": [
       "array([[0, 4, 2, 3, 1]], dtype=int64)"
      ]
     },
     "execution_count": 23,
     "metadata": {},
     "output_type": "execute_result"
    }
   ],
   "source": [
    "# Generating the array element indexes such that the array elements appear in ascending order\n",
    "d = np.array([[0, 11, 5, 10, 2]])\n",
    "np.argsort(d)"
   ]
  },
  {
   "cell_type": "code",
   "execution_count": 24,
   "id": "4ac266b4-f0a9-4a86-8cae-81d8325fd0ad",
   "metadata": {},
   "outputs": [
    {
     "data": {
      "text/html": [
       "\n",
       "        <iframe\n",
       "            width=\"980\"\n",
       "            height=\"520\"\n",
       "            src=\"https://s3.amazonaws.com/dq-blog-files/numpy-cheat-sheet.pdf\"\n",
       "            frameborder=\"0\"\n",
       "            allowfullscreen\n",
       "        ></iframe>\n",
       "        "
      ],
      "text/plain": [
       "<IPython.lib.display.IFrame at 0x1606ce0edc0>"
      ]
     },
     "execution_count": 24,
     "metadata": {},
     "output_type": "execute_result"
    }
   ],
   "source": [
    "from IPython.display import IFrame\n",
    "IFrame('https://s3.amazonaws.com/dq-blog-files/numpy-cheat-sheet.pdf', width=980, height=520)"
   ]
  },
  {
   "cell_type": "markdown",
   "id": "4097b023-faac-4064-a08a-21d4f65f7d69",
   "metadata": {},
   "source": [
    "## Practice set\n",
    "[exercise](https://www.machinelearningplus.com/python/101-numpy-exercises-python/)"
   ]
  },
  {
   "cell_type": "code",
   "execution_count": null,
   "id": "4847467f-a293-4f13-96a9-5b7bb0e55a2f",
   "metadata": {},
   "outputs": [],
   "source": []
  }
 ],
 "metadata": {
  "kernelspec": {
   "display_name": "Python 3",
   "language": "python",
   "name": "python3"
  },
  "language_info": {
   "codemirror_mode": {
    "name": "ipython",
    "version": 3
   },
   "file_extension": ".py",
   "mimetype": "text/x-python",
   "name": "python",
   "nbconvert_exporter": "python",
   "pygments_lexer": "ipython3",
   "version": "3.8.11"
  }
 },
 "nbformat": 4,
 "nbformat_minor": 5
}
