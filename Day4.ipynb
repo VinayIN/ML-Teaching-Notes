{
 "cells": [
  {
   "cell_type": "markdown",
   "id": "a4457d87-fa78-4149-9fbb-3ce3d9e4fa62",
   "metadata": {},
   "source": [
    "## Control flow statements\n",
    "[More about control statements.](https://docs.python.org/3/tutorial/controlflow.html)\n",
    "1. Condional Statements\n",
    "    * evaluate an expression\n",
    "2. Loops\n",
    "    * for loop, while loop\n",
    "3. range() function\n",
    "    * range() is used to create an iterable sequence\n",
    "4. break, continue, and pass\n",
    "    * break and continue are to be used inside loop\n",
    "    * pass are to be used inside functions and class to replace return statements"
   ]
  },
  {
   "cell_type": "markdown",
   "id": "0efeaed5-c310-42e1-af2d-1168e28f7b9e",
   "metadata": {},
   "source": [
    "## 1. Conditional Statements\n",
    "Using `if/else/elif` provides a conditional execution of codeblock after it satisfies a condition\n",
    "\n",
    "**Syntax1**\n",
    "```python\n",
    "expression = 1 > 2\n",
    "if expression:\n",
    "    #Execute this code if the expression is True\n",
    "    print(\"Expression True\")\n",
    "else:\n",
    "    print(\"Expression False\")\n",
    "```\n",
    "\n",
    "**Syntax2 - ternary operator**\n",
    "```python\n",
    "expression = 2 in [1,2,3]\n",
    "value_when_True = 2\n",
    "value_when_False = 3\n",
    "a = value_when_True if expression else value_when_False\n",
    "```"
   ]
  },
  {
   "cell_type": "code",
   "execution_count": 1,
   "id": "34b514f1-2b61-4ce1-9ffd-d354ea0c7b83",
   "metadata": {},
   "outputs": [],
   "source": [
    "## expressions\n",
    "a = 10.1 + 0.9\n",
    "b = 2 * 12.0\n",
    "c = 32 % 10\n",
    "d = 32 % 100\n",
    "e = 32 % 2\n",
    "f = (5 == 5.0) and (3 != 3.0)\n",
    "g = type([1,2,None]) is list  # identity operator is used to check if value of of a specific type or class\n",
    "h = isinstance(type([1,2,None]), int)  # this function is used to check if the value if of specific instance or not\n",
    "i = 2 in [None, 3, 2.0]\n",
    "j = 2 not in [None, 3, 2.0]"
   ]
  },
  {
   "cell_type": "markdown",
   "id": "5fb76808-2be4-4e41-af35-eb348db16adb",
   "metadata": {},
   "source": [
    "### 1. if statement\n",
    "```python \n",
    "a = 0\n",
    "if True:\n",
    "    a = 1\n",
    "```\n",
    "    \n",
    "### 2. if-else statement\n",
    "```python\n",
    "b = 0\n",
    "if True:\n",
    "    b = 1\n",
    "else:\n",
    "    b = -1\n",
    "```\n",
    "    \n",
    "### 3. nested if-else\n",
    "```python\n",
    "c = 0\n",
    "if True:\n",
    "    if False:\n",
    "        c = 1\n",
    "    elif False:\n",
    "        c  = 2\n",
    "    else:\n",
    "        c = -2\n",
    "else:\n",
    "    c = -1\n",
    "```"
   ]
  },
  {
   "cell_type": "markdown",
   "id": "d601dbb2-d666-444b-a3b8-4d3faab947f3",
   "metadata": {},
   "source": [
    "## Assignment\n",
    "1. Write a program to check if a year entered by a user is a leap year or not. (Tip: Divisible by 4)\n",
    "2. Write a program to check if a character is vowel or not.\n",
    "3. **Beginners:** take `n=0` (Note: can't use for loop), **others:** take `n` as user input (Note: Can use for loop). [problem statement](https://leetcode.com/problems/n-th-tribonacci-number/).\n",
    "    * Take anothe input `m` and print the output sequence of length `m`.\n",
    "    * The output should print the sequence as: T_0, T_1, T_2, T_3, T_4, ....... so on.\n",
    "    ```\n",
    "    example: \n",
    "    if n=0, m=2: 0, 1\n",
    "    if n=0, m=3: 0, 1, 1\n",
    "    if n=2, m=5: 0, 1, 1, 2, 4, 7\n",
    "    ```"
   ]
  },
  {
   "cell_type": "code",
   "execution_count": null,
   "id": "eae09c4f-3e50-4b0b-ac93-d213414aa94d",
   "metadata": {},
   "outputs": [],
   "source": []
  }
 ],
 "metadata": {
  "kernelspec": {
   "display_name": "Python 3",
   "language": "python",
   "name": "python3"
  },
  "language_info": {
   "codemirror_mode": {
    "name": "ipython",
    "version": 3
   },
   "file_extension": ".py",
   "mimetype": "text/x-python",
   "name": "python",
   "nbconvert_exporter": "python",
   "pygments_lexer": "ipython3",
   "version": "3.8.11"
  }
 },
 "nbformat": 4,
 "nbformat_minor": 5
}
