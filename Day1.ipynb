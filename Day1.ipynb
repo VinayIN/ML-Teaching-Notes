{
 "cells": [
  {
   "cell_type": "markdown",
   "id": "1abaec30-a703-4ea2-95d4-c945ffc60a70",
   "metadata": {},
   "source": [
    "## What is Python?\n",
    "\n",
    "- Python is an interpreted, object-oriented, high-level programming language with dynamic semantics. Its high-level built in data structures, combined with dynamic typing and dynamic binding, make it very attractive for Rapid Application Development, as well as for use as a scripting or glue language to connect existing components together.\n",
    "- There is no compilation step, the edit-test-debug cycle is incredibly fast.\n",
    "- The debugger is written in Python itself, testifying to Python's introspective power. On the other hand, often the quickest way to debug a program is to add a few print statements to the source: the fast edit-test-debug cycle makes this simple approach very effective."
   ]
  },
  {
   "cell_type": "markdown",
   "id": "ec208d5c-82e1-42fa-8e16-4f2a3f249a9d",
   "metadata": {},
   "source": [
    "## Environment Variables\n",
    "- Values shared across all python modules inside the particular environment/Application\n",
    "\n",
    "**Default**\n",
    "- PATH\n",
    "- PYTHONPATH\n",
    "- PYTHONHOME\n",
    "\n",
    "**Custom**\n",
    "- MYENV\n",
    "\n",
    "Open powershell and execute these command\n",
    "```\n",
    "$MYENV=\"env1\"\n",
    "echo $MYENV\n",
    "```"
   ]
  },
  {
   "cell_type": "markdown",
   "id": "669786c3-800f-4e06-9a17-bab247b3cfe5",
   "metadata": {},
   "source": [
    "### Few Terminologies (Most of them are common across all programming languages)\n",
    "\n",
    "- Identifiers\n",
    "    * A Python identifier is a name used to identify a variable, function, class, module or other object. An identifier starts with a letter A to Z or a to z or an underscore (_) followed by zero or more letters, underscores and digits (0 to 9)\n",
    "    * Python does not allow punctuation characters such as `@`, `$`, and `%` within identifiers.\n",
    "- Keywords\n",
    "    * All reserved words cannot be use as constant or variable or any other identifier names.\n",
    "    * All the Python keywords contain lowercase letters only.\n",
    "- datatypes\n",
    "    * basic datatypes: int, float, complex, string, boolean\n",
    "    * composite datatypes: bytearray, bytes, dict, frozenset, set, list, object, tuple\n",
    "- Variables\n",
    "- data structures\n",
    "    * Build in DS: Tuple, List, Set, Dictionary\n",
    "    * All of these has build-in methods to operate them.\n",
    "- Class\n",
    "- Instance\n",
    "- attributes: (Class/Instance)\n",
    "- methods: (Class/Instance/static)\n",
    "- function\n",
    "- Inheritance: (Single/Multiple/Multilevel/Hierarchical/Hybrid)\n",
    "- Argument: (as a value, as a reference)\n",
    "- Operators\n",
    "    * Arithmetic operators (+, -, *, /, //, %, **)\n",
    "    * Comparison operators (>, <, ==, !=, >=, <=)\n",
    "    * Logical operators (and, or, not)\n",
    "    * Bitwise operators (&, |, ~, ^, >>, <<)\n",
    "    * Assigment operators (=, +=, -=, *=, /=, %=, //=, **=, &=, |=, ^=, >>=, <<=)\n",
    "    * Identity operators (is , is not)\n",
    "    * membership operators (in, not in)\n",
    "- Comments inside programs\n",
    "- [PEP8 Style](https://www.python.org/dev/peps/pep-0008/) guide used across all developers"
   ]
  },
  {
   "cell_type": "markdown",
   "id": "f22f9f8d-629f-493c-b164-6e1c293a806e",
   "metadata": {},
   "source": [
    "### Assignments\n",
    "1. What are the rules to name a variable, function, attribute, class and module?\n",
    "2. What are escape sequences that can be used inside a string?\n",
    "3. What is the difference between mutable & immutable type?\n",
    "4. What is the difference between statements and expressions?\n",
    "5. What is operator precedence and operator associativity?"
   ]
  },
  {
   "cell_type": "markdown",
   "id": "1e4a5dbc-5f51-4f2e-bcc1-4983caa34a9f",
   "metadata": {},
   "source": [
    "**There are 2 ways to invoke python**\n",
    "1. python interactive mode - Here we will use jupyter notebook\n",
    "2. python script mode - Here we will write scripts using vscode\n",
    "\n",
    "## Syntax\n",
    "```bash\n",
    "python script.py\n",
    "```\n",
    "1. import statements\n",
    "2. variable declaration\n",
    "3. class/functions declaration\n",
    "4. class/function calls\n",
    "5. use `__name__ == \"__main__\"` call to control the flow of execution"
   ]
  },
  {
   "cell_type": "code",
   "execution_count": 1,
   "id": "ecaf10ec-40b8-4761-afd5-5521368bd09a",
   "metadata": {},
   "outputs": [
    {
     "name": "stdin",
     "output_type": "stream",
     "text": [
      "Input a number 3\n"
     ]
    },
    {
     "name": "stdout",
     "output_type": "stream",
     "text": [
      "You provided: 3\n",
      "33\n"
     ]
    },
    {
     "name": "stdin",
     "output_type": "stream",
     "text": [
      "Enter another number 4\n"
     ]
    },
    {
     "ename": "TypeError",
     "evalue": "can't multiply sequence by non-int of type 'str'",
     "output_type": "error",
     "traceback": [
      "\u001b[1;31m---------------------------------------------------------------------------\u001b[0m",
      "\u001b[1;31mTypeError\u001b[0m                                 Traceback (most recent call last)",
      "\u001b[1;32m<ipython-input-1-a2faba325251>\u001b[0m in \u001b[0;36m<module>\u001b[1;34m\u001b[0m\n\u001b[0;32m     17\u001b[0m \u001b[0mprint\u001b[0m\u001b[1;33m(\u001b[0m\u001b[0ma\u001b[0m\u001b[1;33m*\u001b[0m\u001b[1;36m2\u001b[0m\u001b[1;33m)\u001b[0m\u001b[1;33m\u001b[0m\u001b[1;33m\u001b[0m\u001b[0m\n\u001b[0;32m     18\u001b[0m \u001b[1;31m# call the function\u001b[0m\u001b[1;33m\u001b[0m\u001b[1;33m\u001b[0m\u001b[1;33m\u001b[0m\u001b[0m\n\u001b[1;32m---> 19\u001b[1;33m \u001b[0mresult\u001b[0m \u001b[1;33m=\u001b[0m \u001b[0mdo_multiplication\u001b[0m\u001b[1;33m(\u001b[0m\u001b[0ma\u001b[0m\u001b[1;33m)\u001b[0m\u001b[1;33m\u001b[0m\u001b[1;33m\u001b[0m\u001b[0m\n\u001b[0m",
      "\u001b[1;32m<ipython-input-1-a2faba325251>\u001b[0m in \u001b[0;36mdo_multiplication\u001b[1;34m(a)\u001b[0m\n\u001b[0;32m     13\u001b[0m \u001b[1;32mdef\u001b[0m \u001b[0mdo_multiplication\u001b[0m\u001b[1;33m(\u001b[0m\u001b[0ma\u001b[0m\u001b[1;33m)\u001b[0m\u001b[1;33m:\u001b[0m\u001b[1;33m\u001b[0m\u001b[1;33m\u001b[0m\u001b[0m\n\u001b[0;32m     14\u001b[0m     \u001b[0mb\u001b[0m \u001b[1;33m=\u001b[0m \u001b[0minput\u001b[0m\u001b[1;33m(\u001b[0m\u001b[0mprompt\u001b[0m\u001b[1;33m=\u001b[0m\u001b[1;34m\"Enter another number\"\u001b[0m\u001b[1;33m)\u001b[0m\u001b[1;33m\u001b[0m\u001b[1;33m\u001b[0m\u001b[0m\n\u001b[1;32m---> 15\u001b[1;33m     \u001b[1;32mreturn\u001b[0m \u001b[0ma\u001b[0m\u001b[1;33m*\u001b[0m\u001b[0mb\u001b[0m\u001b[1;33m\u001b[0m\u001b[1;33m\u001b[0m\u001b[0m\n\u001b[0m\u001b[0;32m     16\u001b[0m \u001b[1;33m\u001b[0m\u001b[0m\n\u001b[0;32m     17\u001b[0m \u001b[0mprint\u001b[0m\u001b[1;33m(\u001b[0m\u001b[0ma\u001b[0m\u001b[1;33m*\u001b[0m\u001b[1;36m2\u001b[0m\u001b[1;33m)\u001b[0m\u001b[1;33m\u001b[0m\u001b[1;33m\u001b[0m\u001b[0m\n",
      "\u001b[1;31mTypeError\u001b[0m: can't multiply sequence by non-int of type 'str'"
     ]
    }
   ],
   "source": [
    "## Intended to produce error\n",
    "\n",
    "\n",
    "# import package/module/library\n",
    "import math\n",
    "\n",
    "\n",
    "# define variable\n",
    "a = input(prompt='Input a number')\n",
    "print(\"You provided:\", a)\n",
    "\n",
    "# # define a function\n",
    "def do_multiplication(a):\n",
    "    b = input(prompt=\"Enter another number\")\n",
    "    return a*b\n",
    "\n",
    "print(a*2)\n",
    "# call the function\n",
    "result = do_multiplication(a)"
   ]
  },
  {
   "cell_type": "code",
   "execution_count": 2,
   "id": "a4ef09e3-5913-4829-9ae6-694c8301815a",
   "metadata": {},
   "outputs": [
    {
     "name": "stdin",
     "output_type": "stream",
     "text": [
      "Input a number 3\n"
     ]
    },
    {
     "name": "stdout",
     "output_type": "stream",
     "text": [
      "You provided: 3\n"
     ]
    },
    {
     "name": "stdin",
     "output_type": "stream",
     "text": [
      "Enter another number 4\n"
     ]
    },
    {
     "name": "stdout",
     "output_type": "stream",
     "text": [
      "12\n"
     ]
    }
   ],
   "source": [
    "## resolve the above error and rewrite\n",
    "import math\n",
    "a = input(prompt='Input a number')\n",
    "a = int(a)\n",
    "print(\"You provided:\", a)\n",
    "\n",
    "def do_multiplication(a):\n",
    "    b = input(prompt=\"Enter another number\")\n",
    "    b = int(b)\n",
    "    return a*b\n",
    "\n",
    "result = do_multiplication(a)\n",
    "print(result)"
   ]
  },
  {
   "cell_type": "markdown",
   "id": "fdd25413-b550-4c6d-a064-216392f4dc78",
   "metadata": {},
   "source": [
    "### Python related terms\n",
    "More detailed information can be found [here](https://realpython.com/courses/python-modules-packages/)\n",
    "\n",
    "- Package\n",
    "    * A package is a collection of related modules that work together to provide certain functionality. These modules are contained within a folder and can be imported just like any other modules. This folder will often contain a special `__init__.py` file that tells Python it's a package, potentially containing more modules nested within subfolders/sub-packages.\n",
    "- module\n",
    "    * A module is a Python file that's intended to be imported into scripts or other modules. It often defines members like classes, functions, and variables intended to be used in other files that import it. \n",
    "- script\n",
    "    * A script is a Python file that's intended to be run directly. When you run it, it should do something. This means that scripts will often contain code written outside the scope of any classes or functions.\n",
    "- library\n",
    "    * Its a loose term referring to collection of codes/modules that can be used for a specific task. example: `Matplotlib` a plotting library"
   ]
  },
  {
   "cell_type": "code",
   "execution_count": null,
   "id": "0b243c6a-cfc4-4f00-9720-a5d04d61e328",
   "metadata": {},
   "outputs": [],
   "source": []
  }
 ],
 "metadata": {
  "kernelspec": {
   "display_name": "Python 3",
   "language": "python",
   "name": "python3"
  },
  "language_info": {
   "codemirror_mode": {
    "name": "ipython",
    "version": 3
   },
   "file_extension": ".py",
   "mimetype": "text/x-python",
   "name": "python",
   "nbconvert_exporter": "python",
   "pygments_lexer": "ipython3",
   "version": "3.8.11"
  }
 },
 "nbformat": 4,
 "nbformat_minor": 5
}
