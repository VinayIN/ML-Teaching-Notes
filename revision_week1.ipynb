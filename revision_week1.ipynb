{
 "cells": [
  {
   "cell_type": "markdown",
   "id": "92f71957-4f90-4b31-a25e-1449b440e11f",
   "metadata": {},
   "source": [
    "## Internal Working of python\n",
    "\n",
    "Python is called an interpreted language. An **interpreter** is a kind of program that executes other programs. When you write `Python` programs , it converts source code written by the developer into intermediate language which is again translated into the native language / machine language that is executed.\n",
    "\n",
    "The python code you write is compiled into **python bytecode**, which creates file with extension `.pyc or .pyo` . The bytecode compilation happened internally, and almost completely hidden from developer. Compilation is simply a translation step, and byte code is a lower-level, and platform-independent, representation of your source code. this **byte code** can’t be understood by the CPU. So we need an interpreter called the **python virtual machine** to execute the byte codes. \n",
    "\n",
    "The Virtual Machine is the **runtime engine** of Python and it is always present as part of the Python system, and is the component that truly runs the Python scripts\n",
    "\n",
    "![python_working](https://media.geeksforgeeks.org/wp-content/uploads/python_working.png)"
   ]
  },
  {
   "cell_type": "markdown",
   "id": "8c4efd48-714a-45d5-980d-3f9677a4a2d3",
   "metadata": {},
   "source": [
    "## Is python Compiled or Interpreted?\n",
    "\n",
    "**Compiled languages** are written in a code that can be executed directly on a computer's processor. A compiler is a special program that processes statements written in a particular programming language and turns them into machine language or \"code\" that a computer's processor uses.\n",
    "\n",
    "**An interpreted language** is any programming language that isn't already in \"machine code\" prior to runtime. Unlike compiled languages , an interpreted language's translation doesn't happen beforehand. Translation occurs at the same time as the program is being executed.\n",
    "\n",
    "So, Python is **Interpreted**"
   ]
  },
  {
   "cell_type": "markdown",
   "id": "0bc03d9f-d7fc-4a55-82d8-7d913a17dfee",
   "metadata": {},
   "source": [
    "**Assignment**\n",
    "- What is the difference between Runtime and Compile time?\n",
    "- Why isn't there a switch or case statements in python? what is the wayaround for that?\n",
    "- How does a ternary operator works?"
   ]
  },
  {
   "cell_type": "code",
   "execution_count": null,
   "id": "c1ff1a84-860f-4c3b-9786-a105f819bf17",
   "metadata": {},
   "outputs": [],
   "source": [
    "# mutable\n",
    "# list, set, dict\n",
    "a = {1, 2, 3, 'aa'} #set\n",
    "b = [11, 22, 33] #list\n",
    "c = {'a': 1, 'b': [1,2,3]}\n",
    "\n",
    "# immutable\n",
    "# tuple, string, frozenset\n",
    "d = (1, 2, 3) #tuple\n",
    "e = 'This is a string' #string\n",
    "f = frozenset([1, 2, 3]) #frozenset"
   ]
  },
  {
   "cell_type": "markdown",
   "id": "354b8964-33e7-48b7-b8ad-04c49357aae3",
   "metadata": {},
   "source": [
    "| TYPE     | NAMING CONVENTION                                                                                               | EXAMPLE                                 |\n",
    "|----------|-----------------------------------------------------------------------------------------------------------------|-----------------------------------------|\n",
    "| function | Use a lowercase word or words. Separate words by underscores to improve readability.                            | function, my_function                   |\n",
    "| variable | Use a lowercase single letter, word, or words. Separate words with underscores to improve readability.          | x, var, my_variable                     |\n",
    "| class    | Start each word with a capital letter. Do not separate words with underscores. This style is called camel case. | Model, MyClass                          |\n",
    "| Method   | Use a lowercase word or words. Separate words with underscores to improve readability.                          | class_method, method                    |\n",
    "| Constant | Use an uppercase single letter, word, or words. Separate words with underscores to improve readability.         | CONSTANT, MY_CONSTANT, MY_LONG_CONSTANT |\n",
    "| Module   | Use a short, lowercase word or words. Separate words with underscores to improve readability.                   | module.py, my_module.py                 |\n",
    "| Package  | Use a short, lowercase word or words. Do not separate words with underscores.                                   | package, mypackage                      |"
   ]
  },
  {
   "cell_type": "code",
   "execution_count": null,
   "id": "1b798c81-d2f1-491e-b5ea-26d4974576b7",
   "metadata": {},
   "outputs": [],
   "source": [
    "## Conditional statements (if, if-else, nested-if-else)\n",
    "a  = 6\n",
    "if True:\n",
    "    a = a + 2\n",
    "    if a % 2 == 0:\n",
    "        pass\n",
    "    elif a < 10:\n",
    "        if True:\n",
    "            a = 9\n",
    "    else:\n",
    "        a = 1\n",
    "else:\n",
    "    a = -1\n",
    "print(a)"
   ]
  },
  {
   "cell_type": "code",
   "execution_count": null,
   "id": "543ed5bf-5517-4b4f-9cd9-be6a4b2f858f",
   "metadata": {},
   "outputs": [],
   "source": [
    "## Looping techniques\n",
    "# enumerate()\n",
    "for index, value in enumerate(['India', 'Pakistan', 'Afghanistan', 'Nepal', 'Myanmar']):\n",
    "    print(index, value)"
   ]
  },
  {
   "cell_type": "code",
   "execution_count": null,
   "id": "1cdac061-1363-40a0-8cae-bd08881c8171",
   "metadata": {},
   "outputs": [],
   "source": [
    "# zip()\n",
    "a = ['name', 'color', 'shape']\n",
    "b = ['apple', 'red', 'sphere']\n",
    "for value1, value2 in zip(a, b):\n",
    "    print(value1, value2)"
   ]
  },
  {
   "cell_type": "markdown",
   "id": "9c1c46da-56df-4c42-91f2-9d86db0cf62c",
   "metadata": {},
   "source": [
    "# Assignment\n",
    "Write a program that breaks the loop after seeing a vowel for 3rd time in a sentence. Also print the vowel encountered and the index of it\n",
    "- The program is already writen below. However there the algorithm is not correct.(Minor mistake)\n",
    "- identify it and correct the algorithm in the next cell"
   ]
  },
  {
   "cell_type": "code",
   "execution_count": 2,
   "id": "12100903-dd37-48f5-9044-13ebd1509fe1",
   "metadata": {},
   "outputs": [
    {
     "name": "stdin",
     "output_type": "stream",
     "text": [
      "provide a sentence I like programming\n"
     ]
    },
    {
     "name": "stdout",
     "output_type": "stream",
     "text": [
      "Encountered vowel: a\n",
      "index:  12\n"
     ]
    }
   ],
   "source": [
    "sentence = input(\"provide a sentence\").strip().lower()\n",
    "length = len(sentence)\n",
    "occurance = 0\n",
    "while length > 0:\n",
    "    if sentence[length-1] in ['a', 'e', 'i', 'o', 'u']:\n",
    "        occurance += 1\n",
    "        if occurance == 2:\n",
    "            print('Encountered vowel:', sentence[length - 1])\n",
    "            print('index: ', length-1)\n",
    "            break\n",
    "    length = length - 1\n",
    "if occurance !=2:\n",
    "    print(\"None Encountered\")"
   ]
  },
  {
   "cell_type": "code",
   "execution_count": null,
   "id": "993f26af-bb56-4aaa-b0dd-e2a8d80a008e",
   "metadata": {},
   "outputs": [],
   "source": []
  }
 ],
 "metadata": {
  "kernelspec": {
   "display_name": "Python 3",
   "language": "python",
   "name": "python3"
  },
  "language_info": {
   "codemirror_mode": {
    "name": "ipython",
    "version": 3
   },
   "file_extension": ".py",
   "mimetype": "text/x-python",
   "name": "python",
   "nbconvert_exporter": "python",
   "pygments_lexer": "ipython3",
   "version": "3.8.11"
  }
 },
 "nbformat": 4,
 "nbformat_minor": 5
}
