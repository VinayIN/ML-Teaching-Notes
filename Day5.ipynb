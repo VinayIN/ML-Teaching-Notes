{
 "cells": [
  {
   "cell_type": "markdown",
   "id": "1c814122-9768-44c0-a426-e204fb1aa859",
   "metadata": {},
   "source": [
    "## 2. Loops\n",
    "* **for loop**\n",
    "The `for` statement is used to iterate over the elements of a sequence (such as a string, tuple or list) or other iterable object.\n",
    "```python\n",
    "for target in iterable_variable:\n",
    "    ## execute code\n",
    "    ## use target variable\n",
    "```\n",
    "\n",
    "* **while loop**\n",
    "The `while` statement is used for repeated execution as long as an expression is True.\n",
    "```python\n",
    "while expression:\n",
    "    ## execude code\n",
    "```"
   ]
  },
  {
   "cell_type": "code",
   "execution_count": 1,
   "id": "bfc46147-9cfc-408f-86b9-dcf234d8ace3",
   "metadata": {},
   "outputs": [
    {
     "name": "stdin",
     "output_type": "stream",
     "text": [
      "Value of n 3\n"
     ]
    },
    {
     "name": "stdout",
     "output_type": "stream",
     "text": [
      "0\n",
      "1\n",
      "4\n"
     ]
    }
   ],
   "source": [
    "## Link: https://www.hackerrank.com/challenges/python-loops/problem\n",
    "# Read a value n from stdin\n",
    "# The list of non-negative integers that are less than n=3 is [0,1,2] . Print the square of each number on a separate line.\n",
    "\n",
    "# output \n",
    "# 0\n",
    "# 1\n",
    "# 4\n",
    "\n",
    "n = int(input(\"Value of n\"))\n",
    "if n > 0:\n",
    "    for i in range(n):\n",
    "        print(i*i)"
   ]
  },
  {
   "cell_type": "markdown",
   "id": "f0894b2b-4162-4d9d-8a13-e762876b0102",
   "metadata": {},
   "source": [
    "## 3. range()\n",
    "iterate over a sequence of numbers\n",
    "```python\n",
    "## [0, 10)\n",
    "a = range(0, 10, 2)\n",
    "for i in a:\n",
    "    print(i)\n",
    "```\n",
    "output:\n",
    "```\n",
    "0\n",
    "2\n",
    "4\n",
    "6\n",
    "8\n",
    "```\n",
    "```python\n",
    "print(list(a))\n",
    "```\n",
    "output:\n",
    "```\n",
    "[0, 2, 4, 6, 8]\n",
    "```"
   ]
  },
  {
   "cell_type": "markdown",
   "id": "761b7dfc-5179-401b-aac6-e2197ad2f47b",
   "metadata": {},
   "source": [
    "### Exercise\n",
    "[problem statement](https://leetcode.com/problems/sort-colors/)\n",
    "- There are n colored red, white, or blue, sort them in-place so that objects of the same color are adjacent, with the colors in the order red, white, and blue.\n",
    "- Use the integers 0, 1, and 2 to represent the color red, white, and blue, respectively.\n",
    "- You must solve this problem without using the library's sort function."
   ]
  },
  {
   "cell_type": "code",
   "execution_count": 6,
   "id": "911a60ea-e618-4690-831f-99f2cdfe35b8",
   "metadata": {},
   "outputs": [
    {
     "name": "stdin",
     "output_type": "stream",
     "text": [
      "Enter the number of sequence to be entered 7\n",
      "provide a value (r/w/b) r\n",
      "provide a value (r/w/b) b\n",
      "provide a value (r/w/b) w\n",
      "provide a value (r/w/b) r\n",
      "provide a value (r/w/b) r\n",
      "provide a value (r/w/b) w\n",
      "provide a value (r/w/b) w\n"
     ]
    },
    {
     "name": "stdout",
     "output_type": "stream",
     "text": [
      "Before sorting:  [0, 2, 1, 0, 0, 1, 1]\n",
      "After sorting:  [0, 0, 0, 1, 1, 1, 2]\n"
     ]
    }
   ],
   "source": [
    "# Solution\n",
    "# Input:  [2,0,2,1,1,0]\n",
    "# Output: [0,0,1,1,2,2]\n",
    "\n",
    "n = int(input(\"Enter the number of sequence to be entered\"))\n",
    "input_list = []\n",
    "color_represent = {'r': 0, 'w': 1, 'b': 2}\n",
    "for i in range(n):\n",
    "    color = input(\"provide a value (r/w/b)\").strip().lower()\n",
    "    input_list.append(color_represent[color])\n",
    "\n",
    "#input_list = [0,2,1,0,0,1,1]\n",
    "modified_input_list = []\n",
    "for i in input_list:\n",
    "    modified_input_list.append(int(i))\n",
    "\n",
    "unique_input_element = set(modified_input_list)\n",
    "output_list = list(unique_input_element)\n",
    "for ele in unique_input_element:\n",
    "    count_to_insert = modified_input_list.count(ele) - 1\n",
    "    while count_to_insert != 0:\n",
    "        index_element = output_list.index(ele)\n",
    "        output_list.insert(index_element, ele)\n",
    "        count_to_insert = count_to_insert - 1\n",
    "\n",
    "print(\"Before sorting: \", input_list)\n",
    "print(\"After sorting: \", output_list)"
   ]
  },
  {
   "cell_type": "markdown",
   "id": "efa4c86c-a0bc-45a5-b8b9-1923dc2f2ce8",
   "metadata": {},
   "source": [
    "## 4. break, continue and pass\n",
    "- **break**: breaks out of the innermost enclosing of `for` or `while` loop.\n",
    "```python\n",
    "for i in range(0, 10):\n",
    "    if i == 5:\n",
    "        break\n",
    "    print(i)\n",
    "```\n",
    "output:\n",
    "```\n",
    "0\n",
    "1\n",
    "2\n",
    "3\n",
    "4\n",
    "```\n",
    "\n",
    "\n",
    "- **continue**: continues with the next iteration of the loop. It skips the code blocks below the continue for the current run\n",
    "\n",
    "*An example of infinte run*\n",
    "```python\n",
    "a = 0\n",
    "while a < 4:\n",
    "    print(a)\n",
    "    if a % 2 == 0:\n",
    "        continue\n",
    "    a += 1\n",
    "    print(\"executed\")\n",
    "```\n",
    "output:\n",
    "```\n",
    "0\n",
    "0\n",
    "0\n",
    ".\n",
    ".\n",
    ".\n",
    ".\n",
    ".\n",
    "```\n",
    "\n",
    "*Converting the above same code to a finite run*\n",
    "```python\n",
    "a = 0\n",
    "while a < 4:\n",
    "    print(a)\n",
    "    a += 1\n",
    "    if a % 2 == 0:\n",
    "        continue\n",
    "    print(\"executed\")\n",
    "```\n",
    "output:\n",
    "```\n",
    "0\n",
    "'executed'\n",
    "1\n",
    "2\n",
    "'executed'\n",
    "3\n",
    "```\n",
    "\n",
    "- **pass**: The pass statement does nothing. It can be used when a statement is required syntactically but the program requires no action.\n",
    "\n",
    "*Function calls*\n",
    "```python\n",
    "def function():\n",
    "    pass\n",
    "```\n",
    "\n",
    "*loops*\n",
    "```python\n",
    "while True:\n",
    "    pass\n",
    "```\n",
    "\n",
    "*class members*\n",
    "```python\n",
    "class A:\n",
    "  def __init__(self):\n",
    "    pass\n",
    "```"
   ]
  },
  {
   "cell_type": "markdown",
   "id": "d0d501e2-6e20-4cb5-aabd-ff0b12919884",
   "metadata": {},
   "source": [
    "Refer to this link. This contains some basic loop exercises with solutions. Practise them throughly\n",
    "- [programs with solution](https://pynative.com/python-if-else-and-for-loop-exercise-with-solutions/)"
   ]
  },
  {
   "cell_type": "code",
   "execution_count": null,
   "id": "c7ba8dd3-26ea-4f08-a08f-1d6bdf6f4c5c",
   "metadata": {},
   "outputs": [],
   "source": []
  }
 ],
 "metadata": {
  "kernelspec": {
   "display_name": "Python 3",
   "language": "python",
   "name": "python3"
  },
  "language_info": {
   "codemirror_mode": {
    "name": "ipython",
    "version": 3
   },
   "file_extension": ".py",
   "mimetype": "text/x-python",
   "name": "python",
   "nbconvert_exporter": "python",
   "pygments_lexer": "ipython3",
   "version": "3.8.11"
  }
 },
 "nbformat": 4,
 "nbformat_minor": 5
}
