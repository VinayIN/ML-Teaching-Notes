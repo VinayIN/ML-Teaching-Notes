{
 "cells": [
  {
   "cell_type": "markdown",
   "id": "7648b2ad-7980-4771-815d-6aa1acecb4f1",
   "metadata": {},
   "source": [
    "## Dynamic Programming\n",
    "The intuition behind dynamic programming is that we trade space for time. Solving a problem in Dynamic programming is using recurssion and Use `Bottom-Up` approach while solving it.\n",
    "\n",
    "DP can be explained with the example:\n",
    "* Writes down \"1+1+1+1+1+1+1+1 =\" on a sheet of paper.\n",
    "* What's that equal to?\n",
    "* Counting - Eight!\n",
    "* Writes down another \"1+\" on the left.\n",
    "* What about that?\n",
    "* Nine!, How'd you know it was nine so fast?\n",
    "\n",
    "**You just added one more!**"
   ]
  },
  {
   "cell_type": "code",
   "execution_count": 1,
   "id": "b7a1ff8f-8d01-4b9d-9374-5ad7ed8e7970",
   "metadata": {},
   "outputs": [
    {
     "data": {
      "text/html": [
       "\n",
       "        <iframe\n",
       "            width=\"560\"\n",
       "            height=\"315\"\n",
       "            src=\"https://www.youtube-nocookie.com/embed/5dRGRueKU3M\"\n",
       "            frameborder=\"0\"\n",
       "            allowfullscreen\n",
       "        ></iframe>\n",
       "        "
      ],
      "text/plain": [
       "<IPython.lib.display.IFrame at 0x1da86ece280>"
      ]
     },
     "execution_count": 1,
     "metadata": {},
     "output_type": "execute_result"
    }
   ],
   "source": [
    "from IPython.display import IFrame\n",
    "IFrame(\"https://www.youtube-nocookie.com/embed/5dRGRueKU3M\", width=\"560\", height=\"315\")"
   ]
  },
  {
   "cell_type": "markdown",
   "id": "c516ae3d-a3b8-4863-9837-e6d7a89b30ce",
   "metadata": {},
   "source": [
    "you didn't need to recount because you remembered there were eight! `Dynamic Programming is just a fancy way to say remembering stuff to save time later!`\n",
    "\n",
    "Some general examples:\n",
    "* Factorial\n",
    "* Unix diff command\n",
    "* Bellman-Ford\n",
    "* 0/1 Knapsack\n",
    "\n",
    "[**Exercises**](https://www.hackerearth.com/practice/algorithms/dynamic-programming/introduction-to-dynamic-programming-1/practice-problems/)"
   ]
  },
  {
   "cell_type": "code",
   "execution_count": null,
   "id": "d7abbc34-8b93-4c13-8106-4d1de5641f9d",
   "metadata": {},
   "outputs": [],
   "source": [
    "## 0/1 Knapsack problem\n",
    "\n",
    "## Bellman-Ford"
   ]
  },
  {
   "cell_type": "markdown",
   "id": "3b5728ca-9865-47a0-8418-450814e8bf0a",
   "metadata": {},
   "source": [
    "## Greedy Programming/Algorithm\n",
    "\n",
    "An `objective function` that needs to be optimized (either maximized or minimized) at a given point. A Greedy algorithm makes greedy choices at each step to ensure that the objective function is optimized. `Always makes the choice that seems to be the best at that moment`\n",
    "\n",
    "There is no correct/wrong answer for a greedy algorithm. It only provides a closest anaswer for a problem\n",
    "\n",
    "\n",
    "**Example 1**:\n",
    "\n",
    "You have exactly `T` time to do some interesting things and you want to do maximum such things.\n",
    "\n",
    "You are given an array `A` of integers, where each element indicates the time a thing takes for completion.\n",
    "\n",
    "*You want to calculate the maximum number of things that you can do in the limited time that you have.*\n",
    "\n",
    "**Example 2**:\n",
    "\n",
    "Consider a problem like the Scheduling problem. You have the following:\n",
    "* List of all the tasks that you need to complete today\n",
    "* Time that is required to complete each task\n",
    "* Priority (or weight ) to each work.\n",
    "\n",
    "*You need to determine in what order you should complete the tasks to get the most optimum result.*\n",
    "\n"
   ]
  },
  {
   "cell_type": "code",
   "execution_count": 2,
   "id": "7c98d532-3e8b-4bc1-b500-b3a7b595a17e",
   "metadata": {},
   "outputs": [
    {
     "data": {
      "text/html": [
       "\n",
       "        <iframe\n",
       "            width=\"560\"\n",
       "            height=\"315\"\n",
       "            src=\"https://www.youtube.com/embed/ARvQcqJ_-NY\"\n",
       "            frameborder=\"0\"\n",
       "            allowfullscreen\n",
       "        ></iframe>\n",
       "        "
      ],
      "text/plain": [
       "<IPython.lib.display.IFrame at 0x1da86ece940>"
      ]
     },
     "execution_count": 2,
     "metadata": {},
     "output_type": "execute_result"
    }
   ],
   "source": [
    "from IPython.display import IFrame\n",
    "IFrame('https://www.youtube.com/embed/ARvQcqJ_-NY', width=\"560\", height=\"315\")"
   ]
  },
  {
   "cell_type": "markdown",
   "id": "a30f1c6a-c65d-412a-8fde-c171e1c7e09f",
   "metadata": {},
   "source": [
    "Some general examples:\n",
    " * Activity Selection problem\n",
    " * Scheduling problem\n",
    " * Minimum Spanning Tree\n",
    " * Dijkstra’s algorithm for shortest paths from a single source\n",
    " * Huffman codes ( data-compression codes )\n",
    "\n",
    "[**Exercises**](https://www.hackerearth.com/practice/algorithms/greedy/basics-of-greedy-algorithms/practice-problems/)"
   ]
  },
  {
   "cell_type": "code",
   "execution_count": null,
   "id": "39ab753e-0553-4f65-8b10-335922e284a1",
   "metadata": {},
   "outputs": [],
   "source": [
    "## Minimum Spanning tree\n",
    "\n",
    "## Dijkstra"
   ]
  }
 ],
 "metadata": {
  "kernelspec": {
   "display_name": "Python 3",
   "language": "python",
   "name": "python3"
  },
  "language_info": {
   "codemirror_mode": {
    "name": "ipython",
    "version": 3
   },
   "file_extension": ".py",
   "mimetype": "text/x-python",
   "name": "python",
   "nbconvert_exporter": "python",
   "pygments_lexer": "ipython3",
   "version": "3.8.11"
  }
 },
 "nbformat": 4,
 "nbformat_minor": 5
}
